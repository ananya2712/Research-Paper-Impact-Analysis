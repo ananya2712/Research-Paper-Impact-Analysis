{
  "nbformat": 4,
  "nbformat_minor": 0,
  "metadata": {
    "colab": {
      "name": "API_Testing.ipynb",
      "provenance": [],
      "collapsed_sections": []
    },
    "kernelspec": {
      "name": "python3",
      "display_name": "Python 3"
    },
    "language_info": {
      "name": "python"
    },
    "accelerator": "GPU"
  },
  "cells": [
    {
      "cell_type": "code",
      "metadata": {
        "colab": {
          "base_uri": "https://localhost:8080/"
        },
        "id": "HwcwSVpfzXkK",
        "outputId": "dab314fe-9878-4870-d056-414c6d449b87"
      },
      "source": [
        "from google.colab import drive\n",
        "drive.mount('/content/drive')"
      ],
      "execution_count": 1,
      "outputs": [
        {
          "output_type": "stream",
          "name": "stdout",
          "text": [
            "Mounted at /content/drive\n"
          ]
        }
      ]
    },
    {
      "cell_type": "code",
      "metadata": {
        "colab": {
          "base_uri": "https://localhost:8080/",
          "height": 277
        },
        "id": "vV3UaLATAZLt",
        "outputId": "bef36b9c-e23d-4bbf-b302-3fcefd19db6a"
      },
      "source": [
        "! pip install typing"
      ],
      "execution_count": 2,
      "outputs": [
        {
          "output_type": "stream",
          "name": "stdout",
          "text": [
            "Collecting typing\n",
            "  Downloading typing-3.7.4.3.tar.gz (78 kB)\n",
            "\u001b[?25l\r\u001b[K     |████▏                           | 10 kB 22.8 MB/s eta 0:00:01\r\u001b[K     |████████▍                       | 20 kB 20.9 MB/s eta 0:00:01\r\u001b[K     |████████████▌                   | 30 kB 10.7 MB/s eta 0:00:01\r\u001b[K     |████████████████▊               | 40 kB 8.7 MB/s eta 0:00:01\r\u001b[K     |████████████████████▉           | 51 kB 5.2 MB/s eta 0:00:01\r\u001b[K     |█████████████████████████       | 61 kB 5.8 MB/s eta 0:00:01\r\u001b[K     |█████████████████████████████▏  | 71 kB 5.5 MB/s eta 0:00:01\r\u001b[K     |████████████████████████████████| 78 kB 3.5 MB/s \n",
            "\u001b[?25hBuilding wheels for collected packages: typing\n",
            "  Building wheel for typing (setup.py) ... \u001b[?25l\u001b[?25hdone\n",
            "  Created wheel for typing: filename=typing-3.7.4.3-py3-none-any.whl size=26324 sha256=4337d1d6c38f1967e95e5fc9160a2d1abd32c352bafe381387cec3d738194d17\n",
            "  Stored in directory: /root/.cache/pip/wheels/35/f3/15/01aa6571f0a72ee6ae7b827c1491c37a1f72d686fd22b43b0e\n",
            "Successfully built typing\n",
            "Installing collected packages: typing\n",
            "Successfully installed typing-3.7.4.3\n"
          ]
        },
        {
          "output_type": "display_data",
          "data": {
            "application/vnd.colab-display-data+json": {
              "pip_warning": {
                "packages": [
                  "typing"
                ]
              }
            }
          },
          "metadata": {}
        }
      ]
    },
    {
      "cell_type": "code",
      "metadata": {
        "id": "ikZdN26J2PFi"
      },
      "source": [
        "# LIBRARIES \n",
        "import csv\n",
        "import pandas as pd\n",
        "import os\n",
        "import numpy as np\n",
        "import matplotlib.pyplot as plt\n",
        "import seaborn as sns\n",
        "from sklearn import preprocessing\n",
        "from scipy import stats"
      ],
      "execution_count": 3,
      "outputs": []
    },
    {
      "cell_type": "code",
      "metadata": {
        "colab": {
          "base_uri": "https://localhost:8080/",
          "height": 687
        },
        "id": "begOKvqe2sPk",
        "outputId": "f27936fd-dcff-4265-d978-7475c0625155"
      },
      "source": [
        "data = pd.read_csv(\"/content/drive/MyDrive/MiniProject/Dataset/papers.csv\")\n",
        "# data = pd.read_csv(\"/content/drive/MyDrive/papers.csv\")\n",
        "data.head() # DISPLAYS FIRST 5 DATA COLOUMNS\n",
        "data.columns.str.match(\"Unnamed\")\n",
        "data.loc[:,~data.columns.str.match(\"Unnamed\")]"
      ],
      "execution_count": 5,
      "outputs": [
        {
          "output_type": "stream",
          "name": "stderr",
          "text": [
            "/usr/local/lib/python3.7/dist-packages/IPython/core/interactiveshell.py:2718: DtypeWarning: Columns (3) have mixed types.Specify dtype option on import or set low_memory=False.\n",
            "  interactivity=interactivity, compiler=compiler, result=result)\n"
          ]
        },
        {
          "output_type": "execute_result",
          "data": {
            "text/html": [
              "<div>\n",
              "<style scoped>\n",
              "    .dataframe tbody tr th:only-of-type {\n",
              "        vertical-align: middle;\n",
              "    }\n",
              "\n",
              "    .dataframe tbody tr th {\n",
              "        vertical-align: top;\n",
              "    }\n",
              "\n",
              "    .dataframe thead th {\n",
              "        text-align: right;\n",
              "    }\n",
              "</style>\n",
              "<table border=\"1\" class=\"dataframe\">\n",
              "  <thead>\n",
              "    <tr style=\"text-align: right;\">\n",
              "      <th></th>\n",
              "      <th>title</th>\n",
              "      <th>abstract</th>\n",
              "      <th>id</th>\n",
              "      <th>author</th>\n",
              "      <th>journal</th>\n",
              "      <th>doi</th>\n",
              "      <th>update</th>\n",
              "    </tr>\n",
              "  </thead>\n",
              "  <tbody>\n",
              "    <tr>\n",
              "      <th>0</th>\n",
              "      <td>Calculation of prompt diphoton production cros...</td>\n",
              "      <td>A fully differential calculation in perturbat...</td>\n",
              "      <td>704</td>\n",
              "      <td>C. Bal\\'azs, E. L. Berger, P. M. Nadolsky, C.-...</td>\n",
              "      <td>Phys.Rev.D76:013009,2007</td>\n",
              "      <td>10.1103/PhysRevD.76.013009</td>\n",
              "      <td>2008-11-26</td>\n",
              "    </tr>\n",
              "    <tr>\n",
              "      <th>1</th>\n",
              "      <td>Polymer Quantum Mechanics and its Continuum Limit</td>\n",
              "      <td>A rather non-standard quantum representation ...</td>\n",
              "      <td>704.001</td>\n",
              "      <td>Alejandro Corichi, Tatjana Vukasinac and Jose ...</td>\n",
              "      <td>Phys.Rev.D76:044016,2007</td>\n",
              "      <td>10.1103/PhysRevD.76.044016</td>\n",
              "      <td>2008-11-26</td>\n",
              "    </tr>\n",
              "    <tr>\n",
              "      <th>2</th>\n",
              "      <td>Numerical solution of shock and ramp compressi...</td>\n",
              "      <td>A general formulation was developed to repres...</td>\n",
              "      <td>704.001</td>\n",
              "      <td>Damian C. Swift</td>\n",
              "      <td>Journal of Applied Physics, vol 104, 073536 (2...</td>\n",
              "      <td>10.1063/1.2975338</td>\n",
              "      <td>2009-02-05</td>\n",
              "    </tr>\n",
              "    <tr>\n",
              "      <th>3</th>\n",
              "      <td>The Spitzer c2d Survey of Large, Nearby, Inste...</td>\n",
              "      <td>We discuss the results from the combined IRAC...</td>\n",
              "      <td>704.001</td>\n",
              "      <td>Paul Harvey, Bruno Merin, Tracy L. Huard, Luis...</td>\n",
              "      <td>Astrophys.J.663:1149-1173,2007</td>\n",
              "      <td>10.1086/518646</td>\n",
              "      <td>2010-03-18</td>\n",
              "    </tr>\n",
              "    <tr>\n",
              "      <th>4</th>\n",
              "      <td>Fermionic superstring loop amplitudes in the p...</td>\n",
              "      <td>The pure spinor formulation of the ten-dimens...</td>\n",
              "      <td>704.001</td>\n",
              "      <td>Christian Stahn</td>\n",
              "      <td>JHEP 0705:034,2007</td>\n",
              "      <td>10.1088/1126-6708/2007/05/034</td>\n",
              "      <td>2009-11-13</td>\n",
              "    </tr>\n",
              "    <tr>\n",
              "      <th>...</th>\n",
              "      <td>...</td>\n",
              "      <td>...</td>\n",
              "      <td>...</td>\n",
              "      <td>...</td>\n",
              "      <td>...</td>\n",
              "      <td>...</td>\n",
              "      <td>...</td>\n",
              "    </tr>\n",
              "    <tr>\n",
              "      <th>651569</th>\n",
              "      <td>Towards a Microscopic Theory for Metallic Heav...</td>\n",
              "      <td>The bias-dependent resistance R(V) of NS-junc...</td>\n",
              "      <td>supr-con/9607007</td>\n",
              "      <td>F. B. Anders and K. Gloos</td>\n",
              "      <td>Physica B, 230-232, 437 (1997)</td>\n",
              "      <td>10.1016/S0921-4526(96)00604-7</td>\n",
              "      <td>2009-10-30</td>\n",
              "    </tr>\n",
              "    <tr>\n",
              "      <th>651570</th>\n",
              "      <td>Extended bound states and resonances of two fe...</td>\n",
              "      <td>The high-$T_c$ cuprates are possible candidat...</td>\n",
              "      <td>supr-con/9608003</td>\n",
              "      <td>A. S. Blaer (1), H. C. Ren (2), and O. Tcherny...</td>\n",
              "      <td>Phys. Rev. B 55, 6035 (1997)</td>\n",
              "      <td>10.1103/PhysRevB.55.6035</td>\n",
              "      <td>2009-10-30</td>\n",
              "    </tr>\n",
              "    <tr>\n",
              "      <th>651571</th>\n",
              "      <td>Ginzburg-Landau-Gor'kov Theory of Magnetic osc...</td>\n",
              "      <td>We investigate de Haas-van Alphen (dHvA) osci...</td>\n",
              "      <td>supr-con/9608004</td>\n",
              "      <td>G. M. Bruun, V. N. Nicopoulos, N. F. Johnson</td>\n",
              "      <td>PHYS REV B 56: (2) 809-825 JUL 1 1997</td>\n",
              "      <td>10.1103/PhysRevB.56.809</td>\n",
              "      <td>2016-09-08</td>\n",
              "    </tr>\n",
              "    <tr>\n",
              "      <th>651572</th>\n",
              "      <td>Evidence for Quasiparticle Decay in Photoemiss...</td>\n",
              "      <td>I argue that the ``gap'' recently observed at...</td>\n",
              "      <td>supr-con/9608005</td>\n",
              "      <td>R. B. Laughlin (Stanford)</td>\n",
              "      <td>Phys. Rev. Lett. 79, 1726 (1997)</td>\n",
              "      <td>10.1103/PhysRevLett.79.1726</td>\n",
              "      <td>2009-10-30</td>\n",
              "    </tr>\n",
              "    <tr>\n",
              "      <th>651573</th>\n",
              "      <td>Ginzburg Landau theory for d-wave pairing and ...</td>\n",
              "      <td>The Ginzburg Landau theory for d_{x^2-y^2}-wa...</td>\n",
              "      <td>supr-con/9609004</td>\n",
              "      <td>Naoki Enomoto, Masanori Ichioka and Kazushige ...</td>\n",
              "      <td>J. Phys. Soc. Jpn. 66, 204 (1997).</td>\n",
              "      <td>10.1143/JPSJ.66.204</td>\n",
              "      <td>2009-10-30</td>\n",
              "    </tr>\n",
              "  </tbody>\n",
              "</table>\n",
              "<p>651574 rows × 7 columns</p>\n",
              "</div>"
            ],
            "text/plain": [
              "                                                    title  ...      update\n",
              "0       Calculation of prompt diphoton production cros...  ...  2008-11-26\n",
              "1       Polymer Quantum Mechanics and its Continuum Limit  ...  2008-11-26\n",
              "2       Numerical solution of shock and ramp compressi...  ...  2009-02-05\n",
              "3       The Spitzer c2d Survey of Large, Nearby, Inste...  ...  2010-03-18\n",
              "4       Fermionic superstring loop amplitudes in the p...  ...  2009-11-13\n",
              "...                                                   ...  ...         ...\n",
              "651569  Towards a Microscopic Theory for Metallic Heav...  ...  2009-10-30\n",
              "651570  Extended bound states and resonances of two fe...  ...  2009-10-30\n",
              "651571  Ginzburg-Landau-Gor'kov Theory of Magnetic osc...  ...  2016-09-08\n",
              "651572  Evidence for Quasiparticle Decay in Photoemiss...  ...  2009-10-30\n",
              "651573  Ginzburg Landau theory for d-wave pairing and ...  ...  2009-10-30\n",
              "\n",
              "[651574 rows x 7 columns]"
            ]
          },
          "metadata": {},
          "execution_count": 5
        }
      ]
    },
    {
      "cell_type": "markdown",
      "metadata": {
        "id": "_5axxJ5pCxfI"
      },
      "source": [
        "Semantic Scholar API to Obtain Metadata"
      ]
    },
    {
      "cell_type": "code",
      "metadata": {
        "id": "BMTah_pU_aQ5"
      },
      "source": [
        "from typing_extensions import Literal\n",
        "import requests\n",
        "\n",
        "\n",
        "class SemanticScholar:\n",
        "\n",
        "    DEFAULT_API_URL = 'https://api.semanticscholar.org/v1'\n",
        "    DEFAULT_PARTNER_API_URL = 'https://partner.semanticscholar.org/v1'\n",
        "\n",
        "    auth_header = {}\n",
        "\n",
        "    def __init__(self,timeout: int=2,api_key: str=None,api_url: str=None) -> None:\n",
        "\n",
        "        if api_url:\n",
        "            self.api_url = api_url\n",
        "        else:\n",
        "            self.api_url = self.DEFAULT_API_URL\n",
        "\n",
        "        if api_key:\n",
        "            self.auth_header = {'x-api-key': api_key}\n",
        "            if not api_url:\n",
        "                self.api_url = self.DEFAULT_PARTNER_API_URL\n",
        "\n",
        "        self.timeout = timeout\n",
        "\n",
        "    def paper(self, id: str, include_unknown_refs: bool=False) -> dict:\n",
        "        # Paper lookup\n",
        "        # param str id: S2PaperId, DOI or ArXivId.\n",
        "        data = self.get_data('paper', id, include_unknown_refs)\n",
        "        return data\n",
        "\n",
        "    def author(self, id: str) -> dict:\n",
        "        data = self.get_data('author', id, False)\n",
        "        return data\n",
        "\n",
        "    def get_data(self,method: Literal['paper', 'author'],id: str ,include_unknown_refs: bool) -> dict:\n",
        "\n",
        "        data = {}\n",
        "        method_types = ['paper', 'author']\n",
        "        if method not in method_types:\n",
        "            raise ValueError(\n",
        "                'Invalid method type. Expected one of: {}'.format(method_types)\n",
        "            )\n",
        "\n",
        "        url = '{}/{}/{}'.format(self.api_url, method, id)\n",
        "        if include_unknown_refs:\n",
        "            url += '?include_unknown_references=true'\n",
        "        r = requests.get(url, timeout=self.timeout, headers=self.auth_header)\n",
        "\n",
        "        if r.status_code == 200:\n",
        "            data = r.json()\n",
        "            if len(data) == 1 and 'error' in data:\n",
        "                data = {}\n",
        "        elif r.status_code == 403:\n",
        "            raise PermissionError('HTTP status 403 Forbidden.')\n",
        "        elif r.status_code == 429:\n",
        "            raise ConnectionRefusedError('HTTP status 429 Too Many Requests.')\n",
        "\n",
        "        return data"
      ],
      "execution_count": 6,
      "outputs": []
    },
    {
      "cell_type": "markdown",
      "metadata": {
        "id": "pS0VHNeXCsU6"
      },
      "source": [
        "Obtain MetaData Information About the Paper"
      ]
    },
    {
      "cell_type": "code",
      "metadata": {
        "colab": {
          "base_uri": "https://localhost:8080/"
        },
        "id": "__aLuJzRBlZs",
        "outputId": "032737dc-5d1b-4bcc-be74-f9b92d3987d2"
      },
      "source": [
        "sch = SemanticScholar(timeout=2)\n",
        "# paper = sch.paper('10.1093/mind/lix.236.433')\n",
        "# paper = sch.paper('10.1063/1.2975338')\n",
        "# paper.keys()\n",
        "# print(paper['doi'])\n",
        "# for author in paper['authors']:\n",
        "#   print(author['name'])\n",
        "#   print(author['authorId'])\n",
        "\n",
        "# for st in paper.keys():\n",
        "#  print(st,':',paper[st]) \n",
        "\n",
        "# for i in range(0,len(data)): # RUN THIS AND TAB BELOW LINES TO RUN FOR ENTIRE DATASET - NOT REQUIRED\n",
        "paper = sch.paper(data.doi[1])\n",
        "for st in paper.keys():\n",
        "  print(st,':',paper[st]) \n"
      ],
      "execution_count": 32,
      "outputs": [
        {
          "output_type": "stream",
          "name": "stdout",
          "text": [
            "abstract : A rather nonstandard quantum representation of the canonical commutation relations of quantum mechanics systems, known as the polymer representation, has gained some attention in recent years, due to its possible relation with Planck scale physics. In particular, this approach has been followed in a symmetric sector of loop quantum gravity known as loop quantum cosmology. Here we explore different aspects of the relation between the ordinary Schroedinger theory and the polymer description. The paper has two parts. In the first one, we derive the polymer quantum mechanics starting from the ordinary Schroedinger theory and show that the polymer description arises as an appropriate limit. In the second part we consider the continuum limit of this theory, namely, the reverse process in which one starts from the discrete theory and tries to recover back the ordinary Schroedinger quantum mechanics. We consider several examples of interest, including the harmonic oscillator, the free particle, and a simple cosmological model.\n",
            "arxivId : 0704.0007\n",
            "authors : [{'authorId': '12030829', 'name': 'Alejandro Corichi', 'url': 'https://www.semanticscholar.org/author/12030829'}, {'authorId': '101918412', 'name': 'T. Vukašinac', 'url': 'https://www.semanticscholar.org/author/101918412'}, {'authorId': '102989963', 'name': 'José A. Zapata', 'url': 'https://www.semanticscholar.org/author/102989963'}]\n",
            "citationVelocity : 14\n",
            "citations : [{'arxivId': '2103.14090', 'authors': [{'authorId': '98659075', 'name': 'P. Fraser'}], 'doi': '10.1103/PhysRevD.103.086014', 'intent': [], 'isInfluential': False, 'paperId': '01f1de3686d41f127d66c442c25de89c4b8833ab', 'title': 'Taming fluctuations for Gaussian states in loop quantum cosmology', 'url': 'https://www.semanticscholar.org/paper/01f1de3686d41f127d66c442c25de89c4b8833ab', 'venue': '', 'year': 2021}, {'arxivId': '2111.00292', 'authors': [{'authorId': '1422250483', 'name': 'Angel Garcia-Chung'}, {'authorId': '13252742', 'name': 'J. Mertens'}, {'authorId': '2333312', 'name': 'S. Rastgoo'}, {'authorId': '103886634', 'name': 'Y. Tavakoli'}, {'authorId': '101125636', 'name': 'P. Moniz'}], 'doi': None, 'intent': [], 'isInfluential': False, 'paperId': '10591902e596249d801326caddba6f57bdc345c2', 'title': 'A model of polymer gravitational waves: theory and some possible observational consequences', 'url': 'https://www.semanticscholar.org/paper/10591902e596249d801326caddba6f57bdc345c2', 'venue': '', 'year': 2021}, {'arxivId': '2109.08645', 'authors': [{'authorId': '90616145', 'name': 'G. Barca'}, {'authorId': '2076827030', 'name': 'E. Giovannetti'}, {'authorId': '3401674', 'name': 'G. Montani'}], 'doi': '10.3390/universe7090327', 'intent': ['methodology'], 'isInfluential': False, 'paperId': '1ad391810baad817cf51b9e7875fab218d2efe75', 'title': 'An Overview on the Nature of the Bounce in LQC and PQM', 'url': 'https://www.semanticscholar.org/paper/1ad391810baad817cf51b9e7875fab218d2efe75', 'venue': 'Universe', 'year': 2021}, {'arxivId': '2105.11511', 'authors': [{'authorId': '2028359075', 'name': 'Keagan Blanchette'}, {'authorId': '2116117537', 'name': 'Saurya Das'}, {'authorId': '2333312', 'name': 'S. Rastgoo'}], 'doi': '10.1007/JHEP09(2021)062', 'intent': [], 'isInfluential': False, 'paperId': '201a2fb2f7500ee57caf408514b1834a7db62bff', 'title': 'Effective GUP-modified Raychaudhuri equation and black hole singularity: four models', 'url': 'https://www.semanticscholar.org/paper/201a2fb2f7500ee57caf408514b1834a7db62bff', 'venue': 'Journal of High Energy Physics', 'year': 2021}, {'arxivId': '2105.05104', 'authors': [{'authorId': '3401674', 'name': 'G. Montani'}, {'authorId': '98657698', 'name': 'S. Segreto'}], 'doi': '10.1103/PhysRevD.104.064020', 'intent': ['background', 'methodology'], 'isInfluential': True, 'paperId': '227acc8b87a0aafa16f07b583010dd3adeb7f2ab', 'title': 'Kaluza-Klein theories in the framework of polymer quantum mechanics', 'url': 'https://www.semanticscholar.org/paper/227acc8b87a0aafa16f07b583010dd3adeb7f2ab', 'venue': 'Physical Review D', 'year': 2021}, {'arxivId': '2111.02129', 'authors': [{'authorId': '90616145', 'name': 'G. Barca'}, {'authorId': '2076827030', 'name': 'E. Giovannetti'}, {'authorId': '1752561132', 'name': 'F. Mandini'}, {'authorId': None, 'name': 'Giovanni Montani'}], 'doi': None, 'intent': [], 'isInfluential': False, 'paperId': '3f86fe80c5078336cb0d0047880f42b573c332ba', 'title': 'Polymer Quantization of the Isotropic Universe: comparison with the Bounce of Loop Quantum Cosmology', 'url': 'https://www.semanticscholar.org/paper/3f86fe80c5078336cb0d0047880f42b573c332ba', 'venue': '', 'year': 2021}, {'arxivId': '2109.02861', 'authors': [{'authorId': '119924445', 'name': 'Yu-Chen Liu'}, {'authorId': None, 'name': 'Jia-Xi Feng'}, {'authorId': '103057367', 'name': 'Fu-Wen Shu'}, {'authorId': None, 'name': 'Anzhong Wang'}], 'doi': '10.1103/PhysRevD.104.106001', 'intent': [], 'isInfluential': False, 'paperId': '46049a95305341e7083200f7781c94f04b35fc79', 'title': 'Extended geometry of Gambini-Olmedo-Pullin polymer black hole and its quasinormal spectrum', 'url': 'https://www.semanticscholar.org/paper/46049a95305341e7083200f7781c94f04b35fc79', 'venue': 'Physical Review D', 'year': 2021}, {'arxivId': '1912.00774', 'authors': [{'authorId': '94137312', 'name': 'N. Bodendorfer'}, {'authorId': '34101016', 'name': 'Fabio M. Mele'}, {'authorId': '39208090', 'name': 'Johannes Münch'}], 'doi': '10.1088/1361-6382/abe05d', 'intent': [], 'isInfluential': False, 'paperId': '46b98c43077f784bf1c0ceea75761968e597677d', 'title': 'Mass and horizon Dirac observables in effective models of quantum black-to-white hole transition', 'url': 'https://www.semanticscholar.org/paper/46b98c43077f784bf1c0ceea75761968e597677d', 'venue': 'Classical and Quantum Gravity', 'year': 2019}, {'arxivId': '2105.00360', 'authors': [{'authorId': '2076827030', 'name': 'E. Giovannetti'}, {'authorId': '3401674', 'name': 'G. Montani'}, {'authorId': '112841261', 'name': 'S. Schiattarella'}], 'doi': None, 'intent': [], 'isInfluential': False, 'paperId': '4933cf5bc277fe6a4964c288499cce0c37b65a82', 'title': 'Semiclassical and quantum features of the Bianchi I cosmology in the polymer representation', 'url': 'https://www.semanticscholar.org/paper/4933cf5bc277fe6a4964c288499cce0c37b65a82', 'venue': '', 'year': 2021}, {'arxivId': '2110.13756', 'authors': [{'authorId': '1454027501', 'name': 'F. Sartini'}], 'doi': None, 'intent': ['background'], 'isInfluential': False, 'paperId': '63e9f3c70d144e4d6b8c8922c9244fd42723b39c', 'title': 'Group quantization of the black hole minisuperspace', 'url': 'https://www.semanticscholar.org/paper/63e9f3c70d144e4d6b8c8922c9244fd42723b39c', 'venue': '', 'year': 2021}, {'arxivId': '2110.05397', 'authors': [{'authorId': '2028359075', 'name': 'Keagan Blanchette'}, {'authorId': None, 'name': 'Saurya Das'}, {'authorId': '2028361835', 'name': 'Samantha Hergott'}, {'authorId': '2333312', 'name': 'S. Rastgoo'}], 'doi': None, 'intent': [], 'isInfluential': False, 'paperId': '71d709fce57e94821a2a1da45f3077409753bc14', 'title': 'Effective black hole interior and the Raychadhuri equation', 'url': 'https://www.semanticscholar.org/paper/71d709fce57e94821a2a1da45f3077409753bc14', 'venue': '', 'year': 2021}, {'arxivId': '2102.12049', 'authors': [{'authorId': '2084093022', 'name': \"G. Chac'on-Acosta\"}, {'authorId': '2078699585', 'name': \"Angel Garc'ia-Chung\"}], 'doi': None, 'intent': ['background'], 'isInfluential': False, 'paperId': '86a5017319798ce9d326dadc5bfe6b29b6d1a8fb', 'title': 'The relation between the symplectic group $Sp(4, \\\\mathbb{R})$ and its Lie algebra: its application in polymer quantum mechanics', 'url': 'https://www.semanticscholar.org/paper/86a5017319798ce9d326dadc5bfe6b29b6d1a8fb', 'venue': '', 'year': 2021}, {'arxivId': '2110.13141', 'authors': [{'authorId': '2076827030', 'name': 'E. Giovannetti'}, {'authorId': '3401674', 'name': 'G. Montani'}, {'authorId': '112841261', 'name': 'S. Schiattarella'}], 'doi': None, 'intent': [], 'isInfluential': False, 'paperId': 'bd67d38640fcc5fd3109af2aa9deb9b7d2b9e9f3', 'title': 'On the semiclassical and quantum picture of the Bianchi I polymer dynamics', 'url': 'https://www.semanticscholar.org/paper/bd67d38640fcc5fd3109af2aa9deb9b7d2b9e9f3', 'venue': '', 'year': 2021}, {'arxivId': '2012.09366', 'authors': [{'authorId': '1422250483', 'name': 'Angel Garcia-Chung'}, {'authorId': '13252742', 'name': 'J. Mertens'}, {'authorId': '2333312', 'name': 'S. Rastgoo'}, {'authorId': '103886634', 'name': 'Y. Tavakoli'}, {'authorId': '101125636', 'name': 'P. Moniz'}], 'doi': '10.1103/PHYSREVD.103.084053', 'intent': ['methodology'], 'isInfluential': False, 'paperId': 'c21c1b942bc20b202cf1fac5b39a0f5aef3059e1', 'title': 'Propagation of quantum gravity-modified gravitational waves on a classical FLRW spacetime', 'url': 'https://www.semanticscholar.org/paper/c21c1b942bc20b202cf1fac5b39a0f5aef3059e1', 'venue': '', 'year': 2020}, {'arxivId': '2101.02676', 'authors': [{'authorId': '2025935877', 'name': 'Benjamin Bahr'}, {'authorId': '51255654', 'name': 'Klaus Liegener'}], 'doi': None, 'intent': ['background'], 'isInfluential': False, 'paperId': 'f8a4d04bd16f77f9468a96d3a15ba5f7fddea274', 'title': 'Properties of the Hamiltonian Renormalisation and its application to quantum mechanics on the circle', 'url': 'https://www.semanticscholar.org/paper/f8a4d04bd16f77f9468a96d3a15ba5f7fddea274', 'venue': '', 'year': 2021}, {'arxivId': '2003.00388', 'authors': [{'authorId': '1422250483', 'name': 'Angel Garcia-Chung'}], 'doi': '10.1103/PhysRevD.101.106004', 'intent': ['methodology'], 'isInfluential': False, 'paperId': '1042c69bf280230645be4beb242a58745c0f971c', 'title': 'Symplectic group in polymer quantum mechanics', 'url': 'https://www.semanticscholar.org/paper/1042c69bf280230645be4beb242a58745c0f971c', 'venue': '', 'year': 2020}, {'arxivId': '2001.11059', 'authors': [{'authorId': '120124501', 'name': 'C. A. Escobar'}, {'authorId': '1429706325', 'name': \"E. Chan-L'opez\"}, {'authorId': '1405076693', 'name': \"A. Mart'in-Ruiz\"}], 'doi': '10.1103/PhysRevD.101.046023', 'intent': [], 'isInfluential': False, 'paperId': '10cb5b0e6f315cf738a422d83cf242dcdd8e61b4', 'title': 'Casimir effect in polymer scalar field theory', 'url': 'https://www.semanticscholar.org/paper/10cb5b0e6f315cf738a422d83cf242dcdd8e61b4', 'venue': '', 'year': 2020}, {'arxivId': '2003.04257', 'authors': [{'authorId': '1422250483', 'name': 'A. García-Chung'}], 'doi': None, 'intent': ['background'], 'isInfluential': False, 'paperId': '12f34ec55aac2a07fa5ff412ecdf0e7d55a75365', 'title': 'Squeeze operator: a classical view', 'url': 'https://www.semanticscholar.org/paper/12f34ec55aac2a07fa5ff412ecdf0e7d55a75365', 'venue': '', 'year': 2020}, {'arxivId': '2011.11815', 'authors': [{'authorId': '2028359075', 'name': 'Keagan Blanchette'}, {'authorId': '2116117537', 'name': 'Saurya Das'}, {'authorId': '2028361835', 'name': 'Samantha Hergott'}, {'authorId': '2333312', 'name': 'S. Rastgoo'}], 'doi': '10.1103/PHYSREVD.103.084038', 'intent': ['background', 'methodology'], 'isInfluential': False, 'paperId': '565b219ff9f6f2c1255c1b2b2ae07475e8648829', 'title': 'Black hole singularity resolution via the modified Raychaudhuri equation in loop quantum gravity', 'url': 'https://www.semanticscholar.org/paper/565b219ff9f6f2c1255c1b2b2ae07475e8648829', 'venue': '', 'year': 2020}, {'arxivId': '2008.07279', 'authors': [{'authorId': '47918337', 'name': 'Carlos Silva'}], 'doi': '10.1103/PhysRevD.102.046001', 'intent': [], 'isInfluential': False, 'paperId': '664d8b801bf17e4339bd6a6e83b4baf9c3dde21e', 'title': 'Spin networks and the big bang singularity avoidance in the \\nAdS/CFT\\n correspondence', 'url': 'https://www.semanticscholar.org/paper/664d8b801bf17e4339bd6a6e83b4baf9c3dde21e', 'venue': '', 'year': 2020}, {'arxivId': '2012.04795', 'authors': [{'authorId': '102481165', 'name': 'P. Bosso'}, {'authorId': '2072114709', 'name': \"O. Obreg'on\"}, {'authorId': '2333312', 'name': 'S. Rastgoo'}, {'authorId': '2034015425', 'name': 'Wilfredo Yupanqui'}], 'doi': '10.1088/1361-6382/ac025f', 'intent': [], 'isInfluential': False, 'paperId': '955cf4a4f482696d90fd82247d62800160b3a3ae', 'title': 'Deformed algebra and the effective dynamics of the interior of black holes', 'url': 'https://www.semanticscholar.org/paper/955cf4a4f482696d90fd82247d62800160b3a3ae', 'venue': '', 'year': 2020}, {'arxivId': '2007.01324', 'authors': [{'authorId': '1402935768', 'name': 'J. Berra-Montiel'}, {'authorId': '102110922', 'name': 'Alberto Molgado'}], 'doi': '10.1088/1361-6382/abb57a', 'intent': [], 'isInfluential': False, 'paperId': '9b83f9900c2b0ea27a9a734c74a4472072b3dd36', 'title': 'Quasi-probability distributions in loop quantum cosmology', 'url': 'https://www.semanticscholar.org/paper/9b83f9900c2b0ea27a9a734c74a4472072b3dd36', 'venue': '', 'year': 2020}, {'arxivId': None, 'authors': [{'authorId': '3463890', 'name': 'Benjamin H. Feintzeig'}], 'doi': '10.1093/bjps/axz051', 'intent': [], 'isInfluential': False, 'paperId': 'a9f039d1d395965e8d6ec4e005df0a6da9f40811', 'title': 'Reductive Explanation and the Construction of Quantum Theories', 'url': 'https://www.semanticscholar.org/paper/a9f039d1d395965e8d6ec4e005df0a6da9f40811', 'venue': 'The British Journal for the Philosophy of Science', 'year': 2020}, {'arxivId': '2006.10614', 'authors': [{'authorId': '1752561132', 'name': 'F. Mandini'}, {'authorId': '90616145', 'name': 'G. Barca'}, {'authorId': '2076827030', 'name': 'E. Giovannetti'}, {'authorId': '3401674', 'name': 'G. Montani'}], 'doi': None, 'intent': ['background', 'methodology'], 'isInfluential': False, 'paperId': 'bcea0586a51037ee981f08158e999a5307f788ab', 'title': 'Polymer quantum dynamics of the isotropic Universe in the Ashtekar-Barbero-Immirzi and in the volume variables', 'url': 'https://www.semanticscholar.org/paper/bcea0586a51037ee981f08158e999a5307f788ab', 'venue': '', 'year': 2020}, {'arxivId': '2002.04541', 'authors': [{'authorId': '1389570365', 'name': 'Y. Yargiç'}, {'authorId': '101809944', 'name': 'Marc Geiller'}], 'doi': None, 'intent': ['background'], 'isInfluential': False, 'paperId': 'cb73f82d0bc8b063fef6c175a20e974dd499db52', 'title': 'Modular polymer representations of the Weyl algebra', 'url': 'https://www.semanticscholar.org/paper/cb73f82d0bc8b063fef6c175a20e974dd499db52', 'venue': '', 'year': 2020}, {'arxivId': '2006.14747', 'authors': [{'authorId': '1402935768', 'name': 'J. Berra-Montiel'}, {'authorId': '152923071', 'name': 'E. Castellanos'}, {'authorId': '102110922', 'name': 'Alberto Molgado'}, {'authorId': '1768848986', 'name': \"Jonathan Trinidad-Garc'ia\"}], 'doi': '10.1142/S0217732321500450', 'intent': [], 'isInfluential': False, 'paperId': 'db915eba3f0ce14d8a42e1b5be2bf987875ed689', 'title': 'Superfluids in polymer quantum mechanics', 'url': 'https://www.semanticscholar.org/paper/db915eba3f0ce14d8a42e1b5be2bf987875ed689', 'venue': '', 'year': 2020}, {'arxivId': None, 'authors': [{'authorId': '87299348', 'name': 'D. Mishra'}], 'doi': None, 'intent': [], 'isInfluential': False, 'paperId': 'e3a512e4108789d8555a912946f7418c0b63bedf', 'title': 'Thermodynamic corrections due to an invariant ultraviolet scale and its implications[HBNI Th167]', 'url': 'https://www.semanticscholar.org/paper/e3a512e4108789d8555a912946f7418c0b63bedf', 'venue': '', 'year': 2020}, {'arxivId': '1904.06149', 'authors': [{'authorId': '97174542', 'name': 'J. B. Achour'}, {'authorId': '2957254', 'name': 'E. Livine'}], 'doi': '10.1088/1475-7516/2019/09/012', 'intent': ['background'], 'isInfluential': False, 'paperId': '275dc6576d772aa54ab77ec2ed203e64f20e63bc', 'title': 'Protected SL(2,ℝ) symmetry in quantum cosmology', 'url': 'https://www.semanticscholar.org/paper/275dc6576d772aa54ab77ec2ed203e64f20e63bc', 'venue': 'Journal of Cosmology and Astroparticle Physics', 'year': 2019}, {'arxivId': '1902.04542', 'authors': [{'authorId': '94137312', 'name': 'N. Bodendorfer'}, {'authorId': '34101016', 'name': 'Fabio M. Mele'}, {'authorId': None, 'name': 'Johannes Münch'}], 'doi': '10.1088/1361-6382/ab3f16', 'intent': ['background'], 'isInfluential': False, 'paperId': '32ccd75604a70527d99cdc66870c8e494d9f4c44', 'title': 'Effective quantum extended spacetime of polymer Schwarzschild black hole', 'url': 'https://www.semanticscholar.org/paper/32ccd75604a70527d99cdc66870c8e494d9f4c44', 'venue': 'Classical and Quantum Gravity', 'year': 2019}, {'arxivId': '1912.04203', 'authors': [{'authorId': '143799542', 'name': 'J. Cortez'}, {'authorId': '146821190', 'name': 'Guillermo A. Mena Marugán'}, {'authorId': '101012729', 'name': 'J. Velhinho'}], 'doi': '10.3390/math8010115', 'intent': ['background'], 'isInfluential': False, 'paperId': '3319738933c7f55ca1744239eff849b1703bd4f4', 'title': 'Quantum Linear Scalar Fields with Time Dependent Potentials: Overview and Applications to Cosmology', 'url': 'https://www.semanticscholar.org/paper/3319738933c7f55ca1744239eff849b1703bd4f4', 'venue': '', 'year': 2019}, {'arxivId': None, 'authors': [{'authorId': None, 'name': 'Jasel Berra – Montiel'}, {'authorId': '102110922', 'name': 'Alberto Molgado'}], 'doi': None, 'intent': ['background', 'methodology'], 'isInfluential': True, 'paperId': '5307ff3b319f7c3dcf2c52975b13cf860be109d6', 'title': 'Ja n 20 19 Polymer Quantum Mechanics as a Deformation Quantization', 'url': 'https://www.semanticscholar.org/paper/5307ff3b319f7c3dcf2c52975b13cf860be109d6', 'venue': '', 'year': 2019}, {'arxivId': '1903.09417', 'authors': [{'authorId': '46396799', 'name': 'V. Cascioli'}, {'authorId': '3401674', 'name': 'G. Montani'}, {'authorId': '3359967', 'name': 'R. Moriconi'}], 'doi': None, 'intent': ['background', 'methodology'], 'isInfluential': True, 'paperId': '57d46195b62030ec143e0d4d4a8992a2f1070326', 'title': 'WKB Approximation for the Polymer Quantization of the Taub Model', 'url': 'https://www.semanticscholar.org/paper/57d46195b62030ec143e0d4d4a8992a2f1070326', 'venue': '', 'year': 2019}, {'arxivId': None, 'authors': [{'authorId': None, 'name': 'J. Ben Achour'}, {'authorId': '2957254', 'name': 'E. Livine'}], 'doi': '10.1103/PHYSREVD.99.126013', 'intent': ['methodology'], 'isInfluential': False, 'paperId': '5da1fd2d246759d39a4c55928c03f1bc9e909bd9', 'title': 'Polymer quantum cosmology: Lifting quantization ambiguities using a \\nSL(2,R)\\n conformal symmetry', 'url': 'https://www.semanticscholar.org/paper/5da1fd2d246759d39a4c55928c03f1bc9e909bd9', 'venue': 'Physical Review D', 'year': 2019}, {'arxivId': '1902.02128', 'authors': [{'authorId': '90616145', 'name': 'G. Barca'}, {'authorId': '103325052', 'name': 'P. Antonio'}, {'authorId': '3401674', 'name': 'G. Montani'}, {'authorId': '102458120', 'name': 'Alberto Patti'}], 'doi': '10.1103/PhysRevD.99.123509', 'intent': [], 'isInfluential': False, 'paperId': '7458c0146ebbbcfe79b864eb682822962d03911e', 'title': 'Semiclassical and quantum polymer effects in a flat isotropic universe', 'url': 'https://www.semanticscholar.org/paper/7458c0146ebbbcfe79b864eb682822962d03911e', 'venue': 'Physical Review D', 'year': 2019}, {'arxivId': None, 'authors': [{'authorId': '2133583670', 'name': 'Chen Jia Pern Neville'}, {'authorId': '2133584242', 'name': 'Ching Chee Leong'}], 'doi': '10.1051/EPJCONF/201920609016', 'intent': [], 'isInfluential': False, 'paperId': '778e25024d11d34d253385e84672158be3ec8366', 'title': 'Applications of Polymeric Quantisation', 'url': 'https://www.semanticscholar.org/paper/778e25024d11d34d253385e84672158be3ec8366', 'venue': 'EPJ Web of Conferences', 'year': 2019}, {'arxivId': '1812.10301', 'authors': [{'authorId': '3173075', 'name': 'M. Amirfakhrian'}, {'authorId': '3606609', 'name': 'B. Vakili'}], 'doi': '10.1142/S0219887819500385', 'intent': [], 'isInfluential': False, 'paperId': 'b22ea33d9630472ff08a8ccbc15bd72bdbd08cd4', 'title': 'Polymer deformation and particle tunneling from Schwarzschild black hole', 'url': 'https://www.semanticscholar.org/paper/b22ea33d9630472ff08a8ccbc15bd72bdbd08cd4', 'venue': 'International Journal of Geometric Methods in Modern Physics', 'year': 2018}, {'arxivId': '1908.09194', 'authors': [{'authorId': '1402935768', 'name': 'J. Berra-Montiel'}], 'doi': '10.1088/1361-6382/ab5bc7', 'intent': ['background', 'methodology'], 'isInfluential': True, 'paperId': 'cd6064ee741351f0a4483cdaab7bca21d8b80a76', 'title': 'The Polymer representation for the scalar field: a Wigner functional approach', 'url': 'https://www.semanticscholar.org/paper/cd6064ee741351f0a4483cdaab7bca21d8b80a76', 'venue': '', 'year': 2019}, {'arxivId': '1808.01304', 'authors': [{'authorId': '87542583', 'name': 'S. Antonini'}, {'authorId': '3401674', 'name': 'G. Montani'}], 'doi': '10.1016/j.physletb.2019.01.050', 'intent': [], 'isInfluential': False, 'paperId': 'e5fd950b7f619a3f44312dec05112a4c5236f1d3', 'title': 'Singularity-free and non-chaotic inhomogeneous Mixmaster in polymer representation for the volume of the universe', 'url': 'https://www.semanticscholar.org/paper/e5fd950b7f619a3f44312dec05112a4c5236f1d3', 'venue': 'Physics Letters B', 'year': 2018}, {'arxivId': '1806.10364', 'authors': [{'authorId': '3401674', 'name': 'G. Montani'}, {'authorId': '90249441', 'name': 'Claudia Mantero'}, {'authorId': '89443127', 'name': 'Flavio Bombacigno'}, {'authorId': '15424464', 'name': 'F. Cianfrani'}, {'authorId': '90616145', 'name': 'G. Barca'}], 'doi': '10.1103/PhysRevD.99.063534', 'intent': [], 'isInfluential': False, 'paperId': 'e918999a1502f240445e3a312e2e92bb34d43eb4', 'title': 'Semiclassical and quantum analysis of the isotropic Universe in the polymer paradigm', 'url': 'https://www.semanticscholar.org/paper/e918999a1502f240445e3a312e2e92bb34d43eb4', 'venue': 'Physical Review D', 'year': 2018}, {'arxivId': '1907.12083', 'authors': [{'authorId': '2076827030', 'name': 'E. Giovannetti'}, {'authorId': '3401674', 'name': 'G. Montani'}], 'doi': '10.1103/PhysRevD.100.104058', 'intent': [], 'isInfluential': False, 'paperId': 'ee14639b7fd11190ef16b5894caf0ddf243d871b', 'title': 'Polymer representation of the Bianchi IX cosmology in the Misner variables', 'url': 'https://www.semanticscholar.org/paper/ee14639b7fd11190ef16b5894caf0ddf243d871b', 'venue': '', 'year': 2019}, {'arxivId': '1910.04710', 'authors': [{'authorId': '51255364', 'name': 'A. Dapor'}, {'authorId': '51255654', 'name': 'K. Liegener'}, {'authorId': '2216284', 'name': 'T. Pawlowski'}], 'doi': '10.1103/PhysRevD.100.106016', 'intent': [], 'isInfluential': False, 'paperId': 'f30ae74005faef72d3d2e291d7af8a944e404f95', 'title': 'Challenges in recovering a consistent cosmology from the effective dynamics of loop quantum gravity', 'url': 'https://www.semanticscholar.org/paper/f30ae74005faef72d3d2e291d7af8a944e404f95', 'venue': '', 'year': 2019}, {'arxivId': None, 'authors': [{'authorId': '102526136', 'name': 'M. Mardaani'}, {'authorId': None, 'name': 'K. Nozari'}], 'doi': '10.1142/S0219887818501694', 'intent': [], 'isInfluential': False, 'paperId': '04e830cb82f739681fd536ed56e5125c667519d3', 'title': 'Polymer quantization effects on gauge-flation', 'url': 'https://www.semanticscholar.org/paper/04e830cb82f739681fd536ed56e5125c667519d3', 'venue': 'International Journal of Geometric Methods in Modern Physics', 'year': 2018}, {'arxivId': '1806.02052', 'authors': [{'authorId': '94137312', 'name': 'N. Bodendorfer'}, {'authorId': '34101016', 'name': 'Fabio M. Mele'}, {'authorId': None, 'name': 'Johannes Münch'}], 'doi': '10.1088/1361-6382/aae74b', 'intent': ['methodology'], 'isInfluential': False, 'paperId': '4f42a250fcab4b206795b8336eb53610d4e1b34d', 'title': 'Is limiting curvature mimetic gravity an effective polymer quantum gravity?', 'url': 'https://www.semanticscholar.org/paper/4f42a250fcab4b206795b8336eb53610d4e1b34d', 'venue': 'Classical and Quantum Gravity', 'year': 2018}, {'arxivId': '1805.01212', 'authors': [{'authorId': '5744989', 'name': 'C. Crinò'}, {'authorId': '3401674', 'name': 'G. Montani'}, {'authorId': '13419835', 'name': 'G. Pintaudi'}], 'doi': '10.1140/epjc/s10052-018-6337-4', 'intent': [], 'isInfluential': False, 'paperId': '5daca99798d58a54887fc86b94558b1e6c6b184b', 'title': 'Semiclassical and quantum behavior of the Mixmaster model in the polymer approach for the isotropic Misner variable', 'url': 'https://www.semanticscholar.org/paper/5daca99798d58a54887fc86b94558b1e6c6b184b', 'venue': 'The European Physical Journal C', 'year': 2018}, {'arxivId': '1806.01837', 'authors': [{'authorId': '3606609', 'name': 'B. Vakili'}], 'doi': '10.1155/2018/3610543', 'intent': [], 'isInfluential': False, 'paperId': '7dc0449a00207e6e4f9629972ea341fa31a7939e', 'title': 'Classical Polymerization of the Schwarzschild Metric', 'url': 'https://www.semanticscholar.org/paper/7dc0449a00207e6e4f9629972ea341fa31a7939e', 'venue': 'Advances in High Energy Physics', 'year': 2018}, {'arxivId': '1711.04357', 'authors': [{'authorId': '3463890', 'name': 'Benjamin H. Feintzeig'}], 'doi': '10.1063/1.5013249', 'intent': [], 'isInfluential': False, 'paperId': 'a13bf60547f67aaccad633f93e68a3ea4f060724', 'title': 'The classical limit of a state on the Weyl algebra', 'url': 'https://www.semanticscholar.org/paper/a13bf60547f67aaccad633f93e68a3ea4f060724', 'venue': 'Journal of Mathematical Physics', 'year': 2017}, {'arxivId': '1801.00273', 'authors': [{'authorId': '4832315', 'name': 'M. Khodadi'}, {'authorId': '2361120', 'name': 'K. Nozari'}, {'authorId': '11630067', 'name': 'S. Dey'}, {'authorId': '46677030', 'name': 'Anha Bhat'}, {'authorId': '101415871', 'name': 'M. Faizal'}], 'doi': '10.1038/s41598-018-19181-9', 'intent': [], 'isInfluential': False, 'paperId': 'a81dd779c3a4716d55eae9b4c747a005b8f5b4fe', 'title': 'A new bound on polymer quantization via an opto-mechanical setup', 'url': 'https://www.semanticscholar.org/paper/a81dd779c3a4716d55eae9b4c747a005b8f5b4fe', 'venue': 'Scientific Reports', 'year': 2017}, {'arxivId': '1804.02262', 'authors': [{'authorId': '91493055', 'name': 'M. Cesare'}], 'doi': None, 'intent': [], 'isInfluential': False, 'paperId': 'b704fc614921626414cab220da4c3bc6d4319ca6', 'title': 'Cosmological consequences of Quantum Gravity proposals', 'url': 'https://www.semanticscholar.org/paper/b704fc614921626414cab220da4c3bc6d4319ca6', 'venue': '', 'year': 2018}, {'arxivId': '1709.08675', 'authors': [{'authorId': '102980710', 'name': 'Emanuele Alesci'}, {'authorId': '103092513', 'name': 'G. Botta'}, {'authorId': '102963428', 'name': 'G. Stagno'}], 'doi': '10.1103/PhysRevD.97.046011', 'intent': [], 'isInfluential': False, 'paperId': 'b770173f90684dd3d3ed6182f484e9c9a351dcdc', 'title': 'Quantum reduced loop gravity effective Hamiltonians from a statistical regularization scheme', 'url': 'https://www.semanticscholar.org/paper/b770173f90684dd3d3ed6182f484e9c9a351dcdc', 'venue': '', 'year': 2017}, {'arxivId': None, 'authors': [{'authorId': '87527474', 'name': 'Jasel Berra – Montiel'}, {'authorId': '102110922', 'name': 'Alberto Molgado'}], 'doi': None, 'intent': ['background', 'methodology'], 'isInfluential': True, 'paperId': 'c10786c6b77d4b324f3c696631734593ef8b112f', 'title': '1 5 M ay 2 01 8 Polymer Quantum Mechanics as a Deformation Quantization', 'url': 'https://www.semanticscholar.org/paper/c10786c6b77d4b324f3c696631734593ef8b112f', 'venue': '', 'year': 2018}, {'arxivId': '1805.05943', 'authors': [{'authorId': '1402935768', 'name': 'J. Berra-Montiel'}, {'authorId': '102110922', 'name': 'Alberto Molgado'}], 'doi': '10.1088/1361-6382/aaf4e3', 'intent': [], 'isInfluential': False, 'paperId': 'd564379bad3c0664bd1c0ac559299dd8b826e9fa', 'title': 'Polymer quantum mechanics as a deformation quantization', 'url': 'https://www.semanticscholar.org/paper/d564379bad3c0664bd1c0ac559299dd8b826e9fa', 'venue': 'Classical and Quantum Gravity', 'year': 2018}, {'arxivId': '1808.10225', 'authors': [{'authorId': '102980710', 'name': 'Emanuele Alesci'}, {'authorId': '2842933', 'name': 'A. Barrau'}, {'authorId': '103092513', 'name': 'G. Botta'}, {'authorId': '88659484', 'name': 'K. Martineau'}, {'authorId': '102963428', 'name': 'G. Stagno'}], 'doi': '10.1103/PhysRevD.98.106022', 'intent': [], 'isInfluential': False, 'paperId': 'ee50d48b4e65e2a42db5a65814064a705efd907d', 'title': 'Phenomenology of quantum reduced loop gravity in the isotropic cosmological sector', 'url': 'https://www.semanticscholar.org/paper/ee50d48b4e65e2a42db5a65814064a705efd907d', 'venue': 'Physical Review D', 'year': 2018}, {'arxivId': '1805.05666', 'authors': [{'authorId': '3401674', 'name': 'G. Montani'}, {'authorId': '71456686', 'name': 'A. Marchi'}, {'authorId': '3359967', 'name': 'R. Moriconi'}], 'doi': '10.1016/j.physletb.2017.12.016', 'intent': [], 'isInfluential': False, 'paperId': 'ef064c3ffaa8d9137ae86d940698bdb154bf79f1', 'title': 'Bianchi I model as a prototype for a cyclical Universe', 'url': 'https://www.semanticscholar.org/paper/ef064c3ffaa8d9137ae86d940698bdb154bf79f1', 'venue': '', 'year': 2018}, {'arxivId': '1808.09163', 'authors': [{'authorId': '88645424', 'name': 'S. Saghafi'}, {'authorId': '2361120', 'name': 'K. Nozari'}], 'doi': '10.1142/S021988781750164X', 'intent': [], 'isInfluential': False, 'paperId': '0ec65cf178d01a2df605e35aa19ea44327b5acf0', 'title': 'Black hole thermodynamics in Snyder phase space', 'url': 'https://www.semanticscholar.org/paper/0ec65cf178d01a2df605e35aa19ea44327b5acf0', 'venue': '', 'year': 2017}, {'arxivId': '1707.05017', 'authors': [{'authorId': '1388351365', 'name': 'G. Amelino-Camelia'}, {'authorId': '101887518', 'name': 'M. Arzano'}, {'authorId': '102368486', 'name': 'M. M. Silva'}, {'authorId': '1422223301', 'name': 'Daniel H. Orozco-Borunda'}], 'doi': '10.1016/j.physletb.2017.10.071', 'intent': [], 'isInfluential': False, 'paperId': '147acac872f61b06bd2542c2b1ee741f6c09d797', 'title': 'Relativistic Planck-scale polymer', 'url': 'https://www.semanticscholar.org/paper/147acac872f61b06bd2542c2b1ee741f6c09d797', 'venue': '', 'year': 2017}, {'arxivId': '1706.04361', 'authors': [{'authorId': '3359967', 'name': 'R. Moriconi'}, {'authorId': '3401674', 'name': 'G. Montani'}], 'doi': '10.1103/PhysRevD.95.123533', 'intent': ['methodology'], 'isInfluential': False, 'paperId': '4c45f4a76edfdccf761363a75265620dc6dc88bc', 'title': 'Behavior of the Universe anisotropy in a big-bounce cosmology', 'url': 'https://www.semanticscholar.org/paper/4c45f4a76edfdccf761363a75265620dc6dc88bc', 'venue': '', 'year': 2017}, {'arxivId': '1710.02032', 'authors': [{'authorId': '46345431', 'name': 'A. Karagiorgos'}, {'authorId': '103013025', 'name': 'T. Pailas'}, {'authorId': '3336045', 'name': 'N. Dimakis'}, {'authorId': '101479076', 'name': 'P. Terzis'}, {'authorId': '3955359', 'name': 'T. Christodoulakis'}], 'doi': '10.1088/1475-7516/2018/03/030', 'intent': [], 'isInfluential': False, 'paperId': '702f2d4960894f58725a8113c0a528bcf833583d', 'title': 'Quantum cosmology of a Bianchi III LRS geometry coupled to a source free electromagnetic field', 'url': 'https://www.semanticscholar.org/paper/702f2d4960894f58725a8113c0a528bcf833583d', 'venue': '', 'year': 2017}, {'arxivId': '1602.03237', 'authors': [{'authorId': '97263350', 'name': 'B. Dittrich'}, {'authorId': '29240008', 'name': 'P. Höhn'}, {'authorId': '40516321', 'name': 'T. Koslowski'}, {'authorId': '144916922', 'name': 'M. I. Nelson'}], 'doi': '10.1016/j.physletb.2017.02.038', 'intent': [], 'isInfluential': False, 'paperId': 'c49745b82430cc781236b32e1248b39ef2afb87a', 'title': 'Can chaos be observed in quantum gravity', 'url': 'https://www.semanticscholar.org/paper/c49745b82430cc781236b32e1248b39ef2afb87a', 'venue': '', 'year': 2016}, {'arxivId': '1603.08076', 'authors': [{'authorId': '1389551767', 'name': 'H. Morales‐Técotl'}, {'authorId': '1422223301', 'name': 'Daniel H. Orozco-Borunda'}, {'authorId': '2333312', 'name': 'S. Rastgoo'}], 'doi': '10.1142/9789813226609_0541', 'intent': [], 'isInfluential': False, 'paperId': 'd285e5acf945d2f1f014d97c63268d95119cb206', 'title': 'Polymerization, the Problem of Access to the Saddle Point Approximation, and Thermodynamics', 'url': 'https://www.semanticscholar.org/paper/d285e5acf945d2f1f014d97c63268d95119cb206', 'venue': '', 'year': 2016}, {'arxivId': None, 'authors': [{'authorId': '3463890', 'name': 'B. Feintzeig'}], 'doi': '10.1007/S10670-016-9865-Z', 'intent': [], 'isInfluential': False, 'paperId': 'd7e60c30a7b3dfe98bf357cdf999ba57189c41b5', 'title': 'On Theory Construction in Physics: Continuity from Classical to Quantum', 'url': 'https://www.semanticscholar.org/paper/d7e60c30a7b3dfe98bf357cdf999ba57189c41b5', 'venue': '', 'year': 2017}, {'arxivId': '1703.05292', 'authors': [{'authorId': '3336045', 'name': 'N. Dimakis'}, {'authorId': '46345431', 'name': 'A. Karagiorgos'}, {'authorId': '103013025', 'name': 'T. Pailas'}, {'authorId': '101479076', 'name': 'P. Terzis'}, {'authorId': '52148148', 'name': 'T. Christodoulakis'}], 'doi': '10.1103/PhysRevD.95.086016', 'intent': [], 'isInfluential': False, 'paperId': 'e9315de37d924eb65e2ff56522ca035ff0366200', 'title': 'Discrete spectrum of the quantum Reissner-Nordström geometry', 'url': 'https://www.semanticscholar.org/paper/e9315de37d924eb65e2ff56522ca035ff0366200', 'venue': '', 'year': 2017}, {'arxivId': '1705.00398', 'authors': [{'authorId': '103224655', 'name': 'S. M. Hassan'}, {'authorId': '9519265', 'name': 'V. Husain'}], 'doi': '10.1088/1361-6382/aa6455', 'intent': [], 'isInfluential': False, 'paperId': 'fb60ff8c752ecea9364dd61f4402f9ec25b8417f', 'title': 'Semiclassical cosmology with polymer matter', 'url': 'https://www.semanticscholar.org/paper/fb60ff8c752ecea9364dd61f4402f9ec25b8417f', 'venue': '', 'year': 2017}, {'arxivId': '1606.00489', 'authors': [{'authorId': '87299348', 'name': 'D. Mishra'}, {'authorId': '143612481', 'name': 'N. Chandra'}, {'authorId': '144985490', 'name': 'V. Vaibhav'}], 'doi': '10.1016/j.aop.2017.08.004', 'intent': [], 'isInfluential': False, 'paperId': '133190ad37034b59343cc7cb2c2030535b465bf6', 'title': 'Equilibrium properties of blackbody radiation with an ultraviolet energy cut-off', 'url': 'https://www.semanticscholar.org/paper/133190ad37034b59343cc7cb2c2030535b465bf6', 'venue': '', 'year': 2016}, {'arxivId': '1607.08052', 'authors': [{'authorId': '144813478', 'name': 'M. Gorji'}], 'doi': '10.1016/j.physletb.2016.07.064', 'intent': [], 'isInfluential': False, 'paperId': '6411efdf16733c7e097d9042a47f10ad97543844', 'title': 'Late time cosmic acceleration from natural infrared cutoff', 'url': 'https://www.semanticscholar.org/paper/6411efdf16733c7e097d9042a47f10ad97543844', 'venue': '', 'year': 2016}, {'arxivId': '1606.07406', 'authors': [{'authorId': '1422250483', 'name': 'Angel A. García-Chung'}, {'authorId': '37361038', 'name': 'J. D. Vergara'}], 'doi': '10.1142/S0217751X16501669', 'intent': ['result', 'background', 'methodology'], 'isInfluential': True, 'paperId': '8446d0a8c7e705dc9e4f9e32475e0bf997f38f1b', 'title': 'Polymer-Fourier quantization of the scalar field revisited', 'url': 'https://www.semanticscholar.org/paper/8446d0a8c7e705dc9e4f9e32475e0bf997f38f1b', 'venue': '', 'year': 2016}, {'arxivId': '1612.01236', 'authors': [{'authorId': '4321671', 'name': 'I. Agulló'}, {'authorId': '95130968', 'name': 'Parampreet Singh'}], 'doi': None, 'intent': ['background'], 'isInfluential': False, 'paperId': '8531ce8699c5adf960b83b8f37ffc09b08c67373', 'title': 'Loop Quantum Cosmology: A brief review', 'url': 'https://www.semanticscholar.org/paper/8531ce8699c5adf960b83b8f37ffc09b08c67373', 'venue': '', 'year': 2016}, {'arxivId': '1605.03215', 'authors': [{'authorId': '144834684', 'name': 'E. Castellanos'}, {'authorId': '1401052153', 'name': 'G. Chacón-Acosta'}, {'authorId': '1412713659', 'name': 'Héctor H. Hernández-Hernández'}, {'authorId': '84395180', 'name': 'E. Santos'}], 'doi': '10.1007/s10773-017-3542-0', 'intent': [], 'isInfluential': False, 'paperId': 'c1d0245bc0240023f8d72875236cf6fd2007942f', 'title': 'Polymer Quantization in the Bogoliubov’s Regime for a Homogeneous One-Dimensional Bose-Einstein Condensate', 'url': 'https://www.semanticscholar.org/paper/c1d0245bc0240023f8d72875236cf6fd2007942f', 'venue': '', 'year': 2016}, {'arxivId': '1604.07288', 'authors': [{'authorId': '103083872', 'name': 'J. A. Olivares'}, {'authorId': '1422250483', 'name': 'Angel Garcia-Chung'}, {'authorId': '37361038', 'name': 'J. D. Vergara'}], 'doi': '10.1088/1361-6382/aa6d88', 'intent': ['background', 'methodology'], 'isInfluential': True, 'paperId': 'c3d1524402cfd362cbd9128ea736115de0d3885b', 'title': 'Instanton solutions on the polymer harmonic oscillator', 'url': 'https://www.semanticscholar.org/paper/c3d1524402cfd362cbd9128ea736115de0d3885b', 'venue': '', 'year': 2016}, {'arxivId': '1610.01957', 'authors': [{'authorId': '1402935768', 'name': 'J. Berra-Montiel'}, {'authorId': '102110922', 'name': 'Alberto Molgado'}], 'doi': '10.1142/S0219887818500950', 'intent': ['background', 'methodology'], 'isInfluential': True, 'paperId': 'e8a5bd0d7d78eaf4553ffdae5a2d3bcb3d332a30', 'title': 'Polymeric quantum mechanics and the zeros of the Riemann zeta function', 'url': 'https://www.semanticscholar.org/paper/e8a5bd0d7d78eaf4553ffdae5a2d3bcb3d332a30', 'venue': '', 'year': 2016}, {'arxivId': '1607.04481', 'authors': [{'authorId': '3359967', 'name': 'R. Moriconi'}, {'authorId': '3401674', 'name': 'G. Montani'}, {'authorId': '2766369', 'name': 'S. Capozziello'}], 'doi': '10.1103/PhysRevD.94.023519', 'intent': ['methodology'], 'isInfluential': False, 'paperId': 'eb603ce21054d1f7eb6822385a46b148cde11a01', 'title': 'Big-bounce cosmology from quantum gravity: The case of a cyclical Bianchi I universe', 'url': 'https://www.semanticscholar.org/paper/eb603ce21054d1f7eb6822385a46b148cde11a01', 'venue': '', 'year': 2016}, {'arxivId': '1512.07779', 'authors': [{'authorId': '2361120', 'name': 'K. Nozari'}, {'authorId': '4832315', 'name': 'M. Khodadi'}, {'authorId': '144813478', 'name': 'M. Gorji'}], 'doi': '10.1209/0295-5075/112/60003', 'intent': [], 'isInfluential': False, 'paperId': '32cf501499bb3ef2b3d560621231d109388d0c65', 'title': 'Bounds on quantum gravity parameter from the $SU(2)$ NJL effective model of QCD', 'url': 'https://www.semanticscholar.org/paper/32cf501499bb3ef2b3d560621231d109388d0c65', 'venue': '', 'year': 2015}, {'arxivId': '1508.01947', 'authors': [{'authorId': '97263350', 'name': 'B. Dittrich'}, {'authorId': '29240008', 'name': 'P. Höhn'}, {'authorId': '40516321', 'name': 'T. Koslowski'}, {'authorId': '144916922', 'name': 'M. I. Nelson'}], 'doi': None, 'intent': [], 'isInfluential': False, 'paperId': '5040843c18e9e97f600b36897fa2637e597a1fee', 'title': 'Chaos, Dirac observables and constraint quantization', 'url': 'https://www.semanticscholar.org/paper/5040843c18e9e97f600b36897fa2637e597a1fee', 'venue': '', 'year': 2015}, {'arxivId': None, 'authors': [{'authorId': '153046159', 'name': 'D. Sloan'}], 'doi': '10.1016/J.SHPSB.2015.03.009', 'intent': [], 'isInfluential': False, 'paperId': '62933ac79b63769ce9e4638d721447dade3f9065', 'title': 'Calling time on digital clocks', 'url': 'https://www.semanticscholar.org/paper/62933ac79b63769ce9e4638d721447dade3f9065', 'venue': '', 'year': 2015}, {'arxivId': '1503.07153', 'authors': [{'authorId': '2096260838', 'name': 'P. Cumsille'}, {'authorId': '145951789', 'name': 'C. M. Reyes'}, {'authorId': '3109944', 'name': 'S. Ossandón'}, {'authorId': '144466861', 'name': 'Camilo Reyes'}], 'doi': '10.1142/S0217751X16500408', 'intent': [], 'isInfluential': False, 'paperId': '644fb638377d714550c316b4d4baece7ac3dc9e0', 'title': 'Polymer quantization, stability and higher-order time derivative terms', 'url': 'https://www.semanticscholar.org/paper/644fb638377d714550c316b4d4baece7ac3dc9e0', 'venue': '', 'year': 2015}, {'arxivId': '1410.5608', 'authors': [{'authorId': '94137312', 'name': 'N. Bodendorfer'}], 'doi': '10.1103/PhysRevD.91.081502', 'intent': [], 'isInfluential': False, 'paperId': '67e6749fb49a7726212bbea910cbb616752765b7', 'title': 'Quantum reduction to Bianchi I models in loop quantum gravity', 'url': 'https://www.semanticscholar.org/paper/67e6749fb49a7726212bbea910cbb616752765b7', 'venue': '', 'year': 2014}, {'arxivId': '1507.08651', 'authors': [{'authorId': '1389551767', 'name': 'H. Morales‐Técotl'}, {'authorId': '1422223301', 'name': 'Daniel H. Orozco-Borunda'}, {'authorId': '2333312', 'name': 'S. Rastgoo'}], 'doi': '10.1103/PhysRevD.92.104029', 'intent': ['methodology'], 'isInfluential': False, 'paperId': '8ee9aab8761bd3be67146ad4cc8b217ac9a3ca20', 'title': 'Polymer quantization and the saddle point approximation of partition functions', 'url': 'https://www.semanticscholar.org/paper/8ee9aab8761bd3be67146ad4cc8b217ac9a3ca20', 'venue': '', 'year': 2015}, {'arxivId': '1506.03375', 'authors': [{'authorId': '144813478', 'name': 'M. Gorji'}, {'authorId': '2361120', 'name': 'K. Nozari'}, {'authorId': '3606609', 'name': 'B. Vakili'}], 'doi': '10.1088/0264-9381/32/15/155007', 'intent': [], 'isInfluential': False, 'paperId': 'a65e6a54a803b88b4f0de903059077d4dfb05d49', 'title': 'Polymer quantization versus the Snyder noncommutative space', 'url': 'https://www.semanticscholar.org/paper/a65e6a54a803b88b4f0de903059077d4dfb05d49', 'venue': '', 'year': 2015}, {'arxivId': '1509.00843', 'authors': [{'authorId': '102219087', 'name': 'Ozan Sargin'}, {'authorId': '101415871', 'name': 'M. Faizal'}], 'doi': '10.1209/0295-5075/113/30007', 'intent': [], 'isInfluential': False, 'paperId': 'aea51533d5df8d2d1d794f837f97c1159f81c7c3', 'title': 'Violation of the Holographic Principle in the Loop Quantum Gravity', 'url': 'https://www.semanticscholar.org/paper/aea51533d5df8d2d1d794f837f97c1159f81c7c3', 'venue': '', 'year': 2015}, {'arxivId': '1504.07117', 'authors': [{'authorId': '2361120', 'name': 'K. Nozari'}, {'authorId': '51920160', 'name': 'V. Hosseinzadeh'}, {'authorId': '144813478', 'name': 'M. Gorji'}], 'doi': '10.1016/j.physletb.2015.09.014', 'intent': [], 'isInfluential': False, 'paperId': 'ec7e75e6ace0c1d122622c0a0dfc98f637cdd482', 'title': 'High temperature dimensional reduction in Snyder space', 'url': 'https://www.semanticscholar.org/paper/ec7e75e6ace0c1d122622c0a0dfc98f637cdd482', 'venue': '', 'year': 2015}, {'arxivId': '1406.4691', 'authors': [{'authorId': '98763211', 'name': 'S. Rahmati'}, {'authorId': '15091483', 'name': 'Sanjeev S. Seahra'}], 'doi': '10.1088/1475-7516/2014/10/045', 'intent': [], 'isInfluential': False, 'paperId': '14d8a309f02d486ebc6fd0439df53c140e54614a', 'title': 'Frustration of resonant preheating by exotic kinetic terms', 'url': 'https://www.semanticscholar.org/paper/14d8a309f02d486ebc6fd0439df53c140e54614a', 'venue': '', 'year': 2014}, {'arxivId': '1409.7224', 'authors': [{'authorId': '12559650', 'name': 'D. Demir'}, {'authorId': '102219087', 'name': 'Ozan Sargin'}], 'doi': '10.1016/j.physleta.2014.09.044', 'intent': ['background'], 'isInfluential': False, 'paperId': '6ce51d4f072c3fe7c4c89b9199f543dbce48e473', 'title': 'Tunneling in polymer quantization and the Quantum Zeno Effect', 'url': 'https://www.semanticscholar.org/paper/6ce51d4f072c3fe7c4c89b9199f543dbce48e473', 'venue': '', 'year': 2014}, {'arxivId': '1405.4083', 'authors': [{'authorId': '2361120', 'name': 'K. Nozari'}, {'authorId': '144813478', 'name': 'M. Gorji'}, {'authorId': '101357347', 'name': 'V. Hosseinzadeh'}, {'authorId': '3606609', 'name': 'B. Vakili'}], 'doi': '10.1088/0264-9381/33/2/025009', 'intent': [], 'isInfluential': False, 'paperId': '9cde87e546e0bc8703f229641ff7fa13d570ca98', 'title': 'Natural Cutoffs via Compact Symplectic Manifolds', 'url': 'https://www.semanticscholar.org/paper/9cde87e546e0bc8703f229641ff7fa13d570ca98', 'venue': '', 'year': 2014}, {'arxivId': '1312.6835', 'authors': [{'authorId': '144813478', 'name': 'M. Gorji'}, {'authorId': '2361120', 'name': 'K. Nozari'}, {'authorId': '3606609', 'name': 'B. Vakili'}], 'doi': '10.1016/j.physletb.2014.06.005', 'intent': [], 'isInfluential': False, 'paperId': 'b21545d4ad1f220129b1bb6fa20f2e503540c748', 'title': 'Polymeric quantization and black hole thermodynamics', 'url': 'https://www.semanticscholar.org/paper/b21545d4ad1f220129b1bb6fa20f2e503540c748', 'venue': '', 'year': 2013}, {'arxivId': '1407.6152', 'authors': [{'authorId': '3451784', 'name': 'T. F. Demarie'}], 'doi': None, 'intent': [], 'isInfluential': False, 'paperId': 'bfad5a4b435e7bf63d3cb49a8c642b8fa62d7f33', 'title': 'Geometrical and Topological Aspects of Quantum Information Systems', 'url': 'https://www.semanticscholar.org/paper/bfad5a4b435e7bf63d3cb49a8c642b8fa62d7f33', 'venue': '', 'year': 2014}, {'arxivId': '1403.2974', 'authors': [{'authorId': '1387917717', 'name': 'G. J.FernandoBarbero'}, {'authorId': '2216284', 'name': 'T. Pawłowski'}, {'authorId': '3010976', 'name': 'Eduardo J S Villaseñor'}], 'doi': '10.1103/PhysRevD.90.067505', 'intent': [], 'isInfluential': False, 'paperId': 'd4dc0d2ec5652bf6f3f5a66255880393da07acf6', 'title': 'Separable Hilbert space for loop quantization', 'url': 'https://www.semanticscholar.org/paper/d4dc0d2ec5652bf6f3f5a66255880393da07acf6', 'venue': '', 'year': 2014}, {'arxivId': '1408.4535', 'authors': [{'authorId': '3606609', 'name': 'B. Vakili'}, {'authorId': '2361120', 'name': 'K. Nozari'}, {'authorId': '101357347', 'name': 'V. Hosseinzadeh'}, {'authorId': '144813478', 'name': 'M. Gorji'}], 'doi': '10.1142/S0217732314501697', 'intent': [], 'isInfluential': False, 'paperId': 'e8abb8538bb818b304b070eaa1a75ff753fcf6f0', 'title': 'Bouncing scalar field cosmology in the polymeric minisuperspace picture', 'url': 'https://www.semanticscholar.org/paper/e8abb8538bb818b304b070eaa1a75ff753fcf6f0', 'venue': '', 'year': 2014}, {'arxivId': None, 'authors': [{'authorId': '1422250483', 'name': 'A. García-Chung'}, {'authorId': '1389551767', 'name': 'H. Morales‐Técotl'}], 'doi': '10.1103/PHYSREVD.89.065014', 'intent': [], 'isInfluential': False, 'paperId': 'fc88abe5e8490c7756b8b488600ecdbbc4e88575', 'title': 'Polymer Dirac field propagator: A model', 'url': 'https://www.semanticscholar.org/paper/fc88abe5e8490c7756b8b488600ecdbbc4e88575', 'venue': '', 'year': 2014}, {'arxivId': '1209.3087', 'authors': [{'authorId': '3451784', 'name': 'T. F. Demarie'}, {'authorId': '10727060', 'name': 'Daniel R. Terno'}], 'doi': '10.1088/0264-9381/30/13/135006', 'intent': [], 'isInfluential': False, 'paperId': '0185619f5ba11bb7cf2a417b089c412fd84beafc', 'title': 'Entropy and entanglement in polymer quantization', 'url': 'https://www.semanticscholar.org/paper/0185619f5ba11bb7cf2a417b089c412fd84beafc', 'venue': '', 'year': 2012}, {'arxivId': '1302.6566', 'authors': [{'authorId': '3357096', 'name': 'A. Kreienbuehl'}, {'authorId': '2216284', 'name': 'T. Pawłowski'}], 'doi': '10.1103/PhysRevD.88.043504', 'intent': [], 'isInfluential': False, 'paperId': '1753bacef03acc5fc7a10a4adf951ba71b641ee2', 'title': 'Singularity resolution from polymer quantum matter', 'url': 'https://www.semanticscholar.org/paper/1753bacef03acc5fc7a10a4adf951ba71b641ee2', 'venue': '', 'year': 2013}, {'arxivId': '1311.6004', 'authors': [{'authorId': '101545539', 'name': 'O. M. Lecian'}, {'authorId': '3401674', 'name': 'G. Montani'}, {'authorId': '3359967', 'name': 'R. Moriconi'}], 'doi': '10.1103/PhysRevD.88.103511', 'intent': ['methodology'], 'isInfluential': False, 'paperId': '20370128061bb4b31d128afc1964415ad06b20dc', 'title': 'Semiclassical and quantum behavior of the mixmaster model in the polymer approach', 'url': 'https://www.semanticscholar.org/paper/20370128061bb4b31d128afc1964415ad06b20dc', 'venue': '', 'year': 2013}, {'arxivId': '1211.5310', 'authors': [{'authorId': '15154790', 'name': 'Xiao-Jun Yue'}, {'authorId': '102826625', 'name': 'J. Zhu'}], 'doi': '10.1103/PhysRevD.87.063518', 'intent': [], 'isInfluential': False, 'paperId': '599e0ee40836f34b895ddebeb522e1010a6046b6', 'title': 'Power spectrum and anisotropy of super inflation in loop quantum cosmology', 'url': 'https://www.semanticscholar.org/paper/599e0ee40836f34b895ddebeb522e1010a6046b6', 'venue': '', 'year': 2012}, {'arxivId': '1305.5406', 'authors': [{'authorId': '1387917717', 'name': 'G. J.FernandoBarbero'}, {'authorId': '90875964', 'name': 'Jorge Prieto'}, {'authorId': '3010976', 'name': 'Eduardo J S Villaseñor'}], 'doi': '10.1088/0264-9381/30/16/165011', 'intent': ['background'], 'isInfluential': False, 'paperId': '7eec04c41d1e670bd16651ab09c36ff2eab8bdbc', 'title': 'Band structure in the polymer quantization of the harmonic oscillator', 'url': 'https://www.semanticscholar.org/paper/7eec04c41d1e670bd16651ab09c36ff2eab8bdbc', 'venue': '', 'year': 2013}, {'arxivId': '1301.7708', 'authors': [{'authorId': '101545539', 'name': 'O. M. Lecian'}, {'authorId': '3401674', 'name': 'G. Montani'}, {'authorId': '3401636', 'name': 'N. Carlevaro'}], 'doi': '10.1140/EPJP/I2013-13019-Y', 'intent': [], 'isInfluential': False, 'paperId': 'd81669de8ff4e7a3d17156bd64f73ebaee24baba', 'title': 'Novel analysis of spinor interactions and non-Riemannian geometry', 'url': 'https://www.semanticscholar.org/paper/d81669de8ff4e7a3d17156bd64f73ebaee24baba', 'venue': '', 'year': 2013}, {'arxivId': '1302.1906', 'authors': [{'authorId': '1452190728', 'name': 'Ernesto Flores-González'}, {'authorId': '1389551767', 'name': 'H. Morales‐Técotl'}, {'authorId': '35212381', 'name': 'J. D. Reyes'}], 'doi': '10.1016/j.aop.2013.05.005', 'intent': ['background', 'methodology'], 'isInfluential': True, 'paperId': 'dc4bd932ae6aee14d5accd66428bace3df038d93', 'title': 'Propagators in Polymer Quantum Mechanics', 'url': 'https://www.semanticscholar.org/paper/dc4bd932ae6aee14d5accd66428bace3df038d93', 'venue': '', 'year': 2013}, {'arxivId': '1301.5362', 'authors': [{'authorId': '79787652', 'name': 'E. Castellanos'}, {'authorId': '1401052153', 'name': 'G. Chacón-Acosta'}], 'doi': '10.1016/j.physletb.2013.04.009', 'intent': [], 'isInfluential': False, 'paperId': 'fee5a73639d2f563bc4269106cac24c2fce7b3da', 'title': 'Polymer Bose–Einstein condensates', 'url': 'https://www.semanticscholar.org/paper/fee5a73639d2f563bc4269106cac24c2fce7b3da', 'venue': '', 'year': 2013}, {'arxivId': '1202.1846', 'authors': [{'authorId': '12030829', 'name': 'Alejandro Corichi'}, {'authorId': '101918412', 'name': 'T. Vukašinac'}], 'doi': '10.1103/PhysRevD.86.064019', 'intent': ['background'], 'isInfluential': False, 'paperId': '24846a531bd6b3b078a18cadf93abd36ca25c9be', 'title': 'Effective constrained polymeric theories and their continuum limit', 'url': 'https://www.semanticscholar.org/paper/24846a531bd6b3b078a18cadf93abd36ca25c9be', 'venue': '', 'year': 2012}, {'arxivId': '1207.6714', 'authors': [{'authorId': '15091483', 'name': 'Sanjeev S. Seahra'}, {'authorId': '36012986', 'name': 'I. Brown'}, {'authorId': '38111084', 'name': 'G. Hossain'}, {'authorId': '9519265', 'name': 'V. Husain'}], 'doi': '10.1088/1475-7516/2012/10/041', 'intent': [], 'isInfluential': False, 'paperId': '34e4c4e47b44c55ed0cc8038b59168070b7a700a', 'title': 'Primordial polymer perturbations', 'url': 'https://www.semanticscholar.org/paper/34e4c4e47b44c55ed0cc8038b59168070b7a700a', 'venue': '', 'year': 2012}, {'arxivId': '1209.2752', 'authors': [{'authorId': '12030829', 'name': 'Alejandro Corichi'}, {'authorId': '101918412', 'name': 'T. Vukašinac'}], 'doi': '10.1063/1.4748546', 'intent': ['background'], 'isInfluential': False, 'paperId': 'af9d67ad468644503b13d4f27b3b3be16d40eef0', 'title': 'On the choice of time in the continuum limit of polymeric effective theories', 'url': 'https://www.semanticscholar.org/paper/af9d67ad468644503b13d4f27b3b3be16d40eef0', 'venue': '', 'year': 2012}, {'arxivId': None, 'authors': [{'authorId': '1451638524', 'name': 'Angel A. Garci a-Chung'}, {'authorId': '102367978', 'name': 'Hugo Aurelio Morales-Te cotl'}], 'doi': None, 'intent': ['background'], 'isInfluential': False, 'paperId': '21f894ec387e3ca566dd036186600b364d388ace', 'title': 'On causality in polymer scalar field theory', 'url': 'https://www.semanticscholar.org/paper/21f894ec387e3ca566dd036186600b364d388ace', 'venue': '', 'year': 2011}, {'arxivId': '1105.3724', 'authors': [{'authorId': '12030829', 'name': 'Alejandro Corichi'}, {'authorId': '103180105', 'name': 'A. Karami'}], 'doi': '10.1103/PhysRevD.84.044003', 'intent': ['background', 'methodology'], 'isInfluential': False, 'paperId': '37f81f2fa950fd32eb8212474d10b53f493b8858', 'title': 'Loop quantum cosmology of k=1 FRW: A tale of two bounces', 'url': 'https://www.semanticscholar.org/paper/37f81f2fa950fd32eb8212474d10b53f493b8858', 'venue': '', 'year': 2011}, {'arxivId': '1011.4249', 'authors': [{'authorId': '12030829', 'name': 'Alejandro Corichi'}, {'authorId': '103180105', 'name': 'A. Karami'}], 'doi': '10.1103/PhysRevD.83.104006', 'intent': ['background'], 'isInfluential': False, 'paperId': '78a6326909144f19ea00d98f67b2d964031f3609', 'title': 'Measure problem in slow roll inflation and loop quantum cosmology', 'url': 'https://www.semanticscholar.org/paper/78a6326909144f19ea00d98f67b2d964031f3609', 'venue': '', 'year': 2010}, {'arxivId': '1109.0803', 'authors': [{'authorId': '1401052153', 'name': 'G. Chacón-Acosta'}, {'authorId': '40269457', 'name': 'E. Manrique'}, {'authorId': '4721095', 'name': 'L. Dagdug'}, {'authorId': '1389551767', 'name': 'H. Morales‐Técotl'}], 'doi': '10.3842/SIGMA.2011.110', 'intent': ['background', 'methodology'], 'isInfluential': True, 'paperId': '8787a04004be3302f16c3d3e1998a6e36a4be0a3', 'title': 'Statistical Thermodynamics of Polymer Quantum Systems', 'url': 'https://www.semanticscholar.org/paper/8787a04004be3302f16c3d3e1998a6e36a4be0a3', 'venue': '', 'year': 2011}, {'arxivId': '1108.0893', 'authors': [{'authorId': '2412351', 'name': 'A. Ashtekar'}, {'authorId': '95130968', 'name': 'Parampreet Singh'}], 'doi': '10.1088/0264-9381/28/21/213001', 'intent': ['result'], 'isInfluential': False, 'paperId': '969b94c49bcf7220bece3275d06fa6a474ec1083', 'title': 'Loop Quantum Cosmology: A Status Report', 'url': 'https://www.semanticscholar.org/paper/969b94c49bcf7220bece3275d06fa6a474ec1083', 'venue': '', 'year': 2011}, {'arxivId': None, 'authors': [{'authorId': '1422250483', 'name': 'A. García-Chung'}, {'authorId': '1389551767', 'name': 'H. Morales‐Técotl'}], 'doi': '10.1063/1.3647531', 'intent': [], 'isInfluential': False, 'paperId': 'f3b74a85283259b0ddd2735729f6b0da8ec98368', 'title': 'On causality in polymer scalar field theory', 'url': 'https://www.semanticscholar.org/paper/f3b74a85283259b0ddd2735729f6b0da8ec98368', 'venue': '', 'year': 2011}, {'arxivId': '1003.2207', 'authors': [{'authorId': '38111084', 'name': 'G. Hossain'}, {'authorId': '9519265', 'name': 'V. Husain'}, {'authorId': '15091483', 'name': 'Sanjeev S. Seahra'}], 'doi': '10.1088/0264-9381/27/16/165013', 'intent': [], 'isInfluential': False, 'paperId': '0dff02729e8ad198119ca4910364e074e6e9c302', 'title': 'Background independent quantization and the uncertainty principle', 'url': 'https://www.semanticscholar.org/paper/0dff02729e8ad198119ca4910364e074e6e9c302', 'venue': '', 'year': 2010}, {'arxivId': '0910.3625', 'authors': [{'authorId': '15364323', 'name': 'G. Kunstatter'}, {'authorId': '2165898', 'name': 'J. Louko'}, {'authorId': '50992584', 'name': 'A. Peltola'}], 'doi': '10.1103/PhysRevD.81.024034', 'intent': ['background'], 'isInfluential': False, 'paperId': '5c78054067c79c59cbef17d9dfae02ae6e16d0da', 'title': 'Polymer quantization of the Einstein-Rosen wormhole throat', 'url': 'https://www.semanticscholar.org/paper/5c78054067c79c59cbef17d9dfae02ae6e16d0da', 'venue': '', 'year': 2009}, {'arxivId': None, 'authors': [{'authorId': '12030829', 'name': 'Alejandro Corichi'}, {'authorId': '101918412', 'name': 'T. Vukašinac'}, {'authorId': '102989963', 'name': 'José A. Zapata'}], 'doi': '10.1063/1.3473849', 'intent': [], 'isInfluential': False, 'paperId': 'ac454a0e0671739b050baccfb59f4313cbc59199', 'title': 'On the convergence in effective loop quantum cosmology', 'url': 'https://www.semanticscholar.org/paper/ac454a0e0671739b050baccfb59f4313cbc59199', 'venue': '', 'year': 2010}, {'arxivId': '0911.2653', 'authors': [{'authorId': '16005535', 'name': 'M. Battisti'}, {'authorId': '31810315', 'name': 'A. Marciano'}, {'authorId': '2717866', 'name': 'C. Rovelli'}], 'doi': '10.1103/PhysRevD.81.064019', 'intent': ['background'], 'isInfluential': False, 'paperId': 'bada73a993788807a786081980fdaf6a0f7d16d0', 'title': 'Triangulated Loop Quantum Cosmology: Bianchi IX and inhomogenous perturbations', 'url': 'https://www.semanticscholar.org/paper/bada73a993788807a786081980fdaf6a0f7d16d0', 'venue': '', 'year': 2009}, {'arxivId': '1111.2107', 'authors': [{'authorId': '50554464', 'name': 'Chun-Yen Lin'}], 'doi': '10.1088/0264-9381/29/8/082001', 'intent': [], 'isInfluential': False, 'paperId': '0bbe99202d1f323d09840e17523a7a434278b59c', 'title': 'Emergence of general relativity from loop quantum gravity: a summary', 'url': 'https://www.semanticscholar.org/paper/0bbe99202d1f323d09840e17523a7a434278b59c', 'venue': '', 'year': 2009}, {'arxivId': '0905.3116', 'authors': [{'authorId': '49072900', 'name': 'P. Wu'}, {'authorId': '39423567', 'name': 'S. Zhang'}, {'authorId': '92023952', 'name': 'H. Yu'}], 'doi': '10.1088/1475-7516/2009/05/007', 'intent': [], 'isInfluential': False, 'paperId': '1b860f005c4aeaec549b9935324906ebf6029ef2', 'title': 'Inverse volume corrections to emergent tachyonic inflation in loop quantum cosmology', 'url': 'https://www.semanticscholar.org/paper/1b860f005c4aeaec549b9935324906ebf6029ef2', 'venue': '', 'year': 2009}, {'arxivId': '0810.0104', 'authors': [{'authorId': '25113522', 'name': 'E. Copeland'}, {'authorId': '51880598', 'name': 'D. Mulryne'}, {'authorId': '31824707', 'name': 'N. Nunes'}, {'authorId': '103363856', 'name': 'M. Shaeri'}], 'doi': '10.1103/PhysRevD.79.023508', 'intent': [], 'isInfluential': False, 'paperId': '76ed090d19162ad145d07e59d919fd359777ebe2', 'title': 'Gravitational wave background from superinflation in loop quantum cosmology', 'url': 'https://www.semanticscholar.org/paper/76ed090d19162ad145d07e59d919fd359777ebe2', 'venue': '', 'year': 2008}, {'arxivId': '0902.1746', 'authors': [{'authorId': '50992584', 'name': 'A. Peltola'}, {'authorId': '15364323', 'name': 'G. Kunstatter'}], 'doi': '10.1103/PhysRevD.80.044031', 'intent': [], 'isInfluential': False, 'paperId': '7f064c4cf4fb081e2b1ccc37ed9f2ee94443f59b', 'title': 'Effective polymer dynamics of D-dimensional black hole interiors', 'url': 'https://www.semanticscholar.org/paper/7f064c4cf4fb081e2b1ccc37ed9f2ee94443f59b', 'venue': '', 'year': 2009}, {'arxivId': '0809.5098', 'authors': [{'authorId': '15364323', 'name': 'G. Kunstatter'}, {'authorId': '2165898', 'name': 'J. Louko'}, {'authorId': '103283401', 'name': 'J. Z. U. O. Winnipeg'}, {'authorId': '102274301', 'name': 'U. Nottingham'}, {'authorId': '102400539', 'name': 'U. Manitoba'}], 'doi': '10.1103/PhysRevA.79.032104', 'intent': [], 'isInfluential': False, 'paperId': 'e806fff2f24955f618b09679e9ed2447ccf33d46', 'title': 'Polymer quantization, singularity resolution and the 1=r 2 potential', 'url': 'https://www.semanticscholar.org/paper/e806fff2f24955f618b09679e9ed2447ccf33d46', 'venue': '', 'year': 2008}, {'arxivId': '0812.0577', 'authors': [{'authorId': '47954903', 'name': 'C. Constantinidis'}, {'authorId': '144895002', 'name': 'A. Pérez'}, {'authorId': '1830970', 'name': 'O. Piguet'}], 'doi': '10.1103/PhysRevD.79.084007', 'intent': [], 'isInfluential': False, 'paperId': 'fba5ff06181bd695df4492f14448e4cd2b20c559', 'title': 'Quantization of the Jackiw-Teitelboim model', 'url': 'https://www.semanticscholar.org/paper/fba5ff06181bd695df4492f14448e4cd2b20c559', 'venue': '', 'year': 2008}, {'arxivId': '0708.1261', 'authors': [{'authorId': '25113522', 'name': 'E. Copeland'}, {'authorId': '51880598', 'name': 'D. Mulryne'}, {'authorId': '31824707', 'name': 'N. Nunes'}, {'authorId': '103363856', 'name': 'M. Shaeri'}], 'doi': '10.1103/PhysRevD.77.023510', 'intent': [], 'isInfluential': False, 'paperId': '4bcb4cc7938ffc04e54a96b0c0fa0a1227014efa', 'title': 'Superinflation in loop quantum cosmology', 'url': 'https://www.semanticscholar.org/paper/4bcb4cc7938ffc04e54a96b0c0fa0a1227014efa', 'venue': '', 'year': 2007}, {'arxivId': '0805.1178', 'authors': [{'authorId': '16005535', 'name': 'M. Battisti'}], 'doi': '10.1103/physrevd.79.083506', 'intent': [], 'isInfluential': False, 'paperId': 'd449000e1bf50919b75bfb8917a94646a0aec80a', 'title': 'Cosmological bounce from a deformed Heisenberg algebra', 'url': 'https://www.semanticscholar.org/paper/d449000e1bf50919b75bfb8917a94646a0aec80a', 'venue': '', 'year': 2008}, {'arxivId': '0806.0768', 'authors': [{'authorId': '16005535', 'name': 'M. Battisti'}, {'authorId': '101545539', 'name': 'O. M. Lecian'}, {'authorId': '3401674', 'name': 'G. Montani'}], 'doi': '10.1103/PhysRevD.78.103514', 'intent': [], 'isInfluential': False, 'paperId': 'd484f45d9b457f6683ea335930cc169a5ae26161', 'title': 'Polymer quantum dynamics of the Taub universe', 'url': 'https://www.semanticscholar.org/paper/d484f45d9b457f6683ea335930cc169a5ae26161', 'venue': '', 'year': 2008}, {'arxivId': '0805.0136', 'authors': [{'authorId': '12030829', 'name': 'Alejandro Corichi'}, {'authorId': '95130968', 'name': 'Parampreet Singh'}], 'doi': '10.1103/PhysRevD.78.024034', 'intent': ['background', 'methodology'], 'isInfluential': False, 'paperId': 'e9524f66aa417e3e0a4a5be32b09e6e7d584b18c', 'title': 'Is loop quantization in cosmology unique', 'url': 'https://www.semanticscholar.org/paper/e9524f66aa417e3e0a4a5be32b09e6e7d584b18c', 'venue': '', 'year': 2008}, {'arxivId': '0711.0788', 'authors': [{'authorId': '12030829', 'name': 'Alejandro Corichi'}, {'authorId': '101918412', 'name': 'T. Vukašinac'}, {'authorId': '102989963', 'name': \"Jos'e A. Zapata\"}], 'doi': '10.1063/1.2902799', 'intent': [], 'isInfluential': False, 'paperId': '1817b0cd9ee34a10cfcdba17d40c89857d867a54', 'title': 'On a Continuum Limit for Loop Quantum Cosmology', 'url': 'https://www.semanticscholar.org/paper/1817b0cd9ee34a10cfcdba17d40c89857d867a54', 'venue': '', 'year': 2007}, {'arxivId': '0707.0273', 'authors': [{'authorId': '9519265', 'name': 'V. Husain'}, {'authorId': '2165898', 'name': 'J. Louko'}, {'authorId': '47416409', 'name': 'O. Winkler'}], 'doi': '10.1103/PhysRevD.76.084002', 'intent': ['background', 'methodology'], 'isInfluential': False, 'paperId': '483f47f4b75b94523ce95f0f04e14271cc804b4e', 'title': 'Quantum gravity and the Coulomb potential', 'url': 'https://www.semanticscholar.org/paper/483f47f4b75b94523ce95f0f04e14271cc804b4e', 'venue': '', 'year': 2007}, {'arxivId': '0704.2397', 'authors': [{'authorId': '101012729', 'name': 'J. Velhinho'}], 'doi': '10.1088/0264-9381/24/14/013', 'intent': [], 'isInfluential': False, 'paperId': '662ada0b8f7b51ac07802338882950aba41df1a9', 'title': 'The Quantum configuration space of loop quantum cosmology', 'url': 'https://www.semanticscholar.org/paper/662ada0b8f7b51ac07802338882950aba41df1a9', 'venue': '', 'year': 2007}, {'arxivId': None, 'authors': [{'authorId': '9519265', 'name': 'V. Husain'}, {'authorId': '2165898', 'name': 'J. Louko'}, {'authorId': '47416409', 'name': 'O. Winkler'}], 'doi': None, 'intent': [], 'isInfluential': False, 'paperId': '710f296bdd382cc2f770f3964a9e0bcc8503785b', 'title': 'J ul 2 00 7 Quantum gravity and the Coulomb potential', 'url': 'https://www.semanticscholar.org/paper/710f296bdd382cc2f770f3964a9e0bcc8503785b', 'venue': '', 'year': 2007}, {'arxivId': '0710.3565', 'authors': [{'authorId': '2412351', 'name': 'A. Ashtekar'}, {'authorId': '12030829', 'name': 'Alejandro Corichi'}, {'authorId': '95130968', 'name': 'P. Singh'}], 'doi': '10.1103/PhysRevD.77.024046', 'intent': ['result'], 'isInfluential': False, 'paperId': '8f476f9836a77d5d8515fa4b389dd808b875e75f', 'title': 'Robustness of key features of loop quantum cosmology', 'url': 'https://www.semanticscholar.org/paper/8f476f9836a77d5d8515fa4b389dd808b875e75f', 'venue': '', 'year': 2007}, {'arxivId': '0706.4431', 'authors': [{'authorId': None, 'name': 'Luca Parisi'}, {'authorId': '36800566', 'name': 'M. Bruni'}, {'authorId': '4695396', 'name': 'R. Maartens'}, {'authorId': '14642146', 'name': 'K. Vandersloot'}], 'doi': '10.1088/0264-9381/24/24/007', 'intent': [], 'isInfluential': False, 'paperId': 'd7b8183814ae0a2eafaa78771aef0bdb38074537', 'title': 'The Einstein static universe in loop quantum cosmology', 'url': 'https://www.semanticscholar.org/paper/d7b8183814ae0a2eafaa78771aef0bdb38074537', 'venue': '', 'year': 2007}]\n",
            "corpusId : 119691601\n",
            "doi : 10.1103/PhysRevD.76.044016\n",
            "fieldsOfStudy : ['Physics']\n",
            "influentialCitationCount : 10\n",
            "isOpenAccess : True\n",
            "isPublisherLicensed : True\n",
            "is_open_access : True\n",
            "is_publisher_licensed : True\n",
            "numCitedBy : 124\n",
            "numCiting : 20\n",
            "paperId : 596e5276e4d36c6f4891d0c286f55ce79e682c50\n",
            "references : [{'arxivId': None, 'authors': [{'authorId': '50012345', 'name': 'W. Rudin'}], 'doi': '10.2307/2313899', 'intent': ['background'], 'isInfluential': False, 'paperId': '7838d046f296235cb0bbab0a190d539e8debb25a', 'title': 'Fourier Analysis on Groups', 'url': 'https://www.semanticscholar.org/paper/7838d046f296235cb0bbab0a190d539e8debb25a', 'venue': '', 'year': 1965}, {'arxivId': None, 'authors': [{'authorId': '2101715458', 'name': 'R. Beaume'}, {'authorId': '101831023', 'name': 'J. Manuceau'}, {'authorId': '88883131', 'name': 'A. Pellet'}, {'authorId': '100560570', 'name': 'M. Sirugue'}], 'doi': '10.1007/BF01651547', 'intent': [], 'isInfluential': False, 'paperId': 'b2e2e3ab8dcc4a7101359193506042dfa072f999', 'title': 'Translation invariant states in quantum mechanics', 'url': 'https://www.semanticscholar.org/paper/b2e2e3ab8dcc4a7101359193506042dfa072f999', 'venue': '', 'year': 1974}, {'arxivId': None, 'authors': [{'authorId': '2057270251', 'name': 'W. Thirring'}, {'authorId': '102470836', 'name': 'N. Narnhofer'}], 'doi': '10.1142/S0129055X92000200', 'intent': [], 'isInfluential': False, 'paperId': 'b4379ed920700d0d7a9bd5d1f0821488048ea058', 'title': 'COVARIANT QED WITHOUT INDEFINITE METRIC', 'url': 'https://www.semanticscholar.org/paper/b4379ed920700d0d7a9bd5d1f0821488048ea058', 'venue': '', 'year': 1992}, {'arxivId': None, 'authors': [{'authorId': '4670826', 'name': 'F. Acerbi'}, {'authorId': '90669682', 'name': 'G. Morchio'}, {'authorId': '101430012', 'name': 'F. Strocchi'}], 'doi': '10.1063/1.530200', 'intent': [], 'isInfluential': False, 'paperId': '7fc54105ee2af3f691547444bc281779b556dc34', 'title': 'Infrared singular fields and nonregular representations of canonical commutation relation algebras', 'url': 'https://www.semanticscholar.org/paper/7fc54105ee2af3f691547444bc281779b556dc34', 'venue': '', 'year': 1993}, {'arxivId': None, 'authors': [{'authorId': '2071266245', 'name': 'S. Cavallaro'}, {'authorId': '90669682', 'name': 'G. Morchio'}, {'authorId': '101430012', 'name': 'F. Strocchi'}], 'doi': '10.1023/A:1007599222651', 'intent': [], 'isInfluential': False, 'paperId': '182bbe72a417cf4221b55562428317f124102f08', 'title': 'A Generalization of the Stone–Von Neumann Theorem to Nonregular Representations of the CCR-Algebra', 'url': 'https://www.semanticscholar.org/paper/182bbe72a417cf4221b55562428317f124102f08', 'venue': '', 'year': 1999}, {'arxivId': 'hep-th/0202070', 'authors': [{'authorId': '12030829', 'name': 'Alejandro Corichi'}, {'authorId': '143799542', 'name': 'J. Cortez'}, {'authorId': '143833037', 'name': 'H. Quevedo'}], 'doi': '10.1016/j.aop.2004.05.004', 'intent': [], 'isInfluential': False, 'paperId': 'df7d6008bd19bd08026a63139b2abc58a78223b1', 'title': 'On the Relation Between Fock and Schroedinger Representations for a Scalar Field', 'url': 'https://www.semanticscholar.org/paper/df7d6008bd19bd08026a63139b2abc58a78223b1', 'venue': '', 'year': 2002}, {'arxivId': 'gr-qc/0207106', 'authors': [{'authorId': '2412351', 'name': 'A. Ashtekar'}, {'authorId': '117928735', 'name': 'S. Fairhurst'}, {'authorId': '114521989', 'name': 'J. Willis'}], 'doi': '10.1088/0264-9381/20/6/302', 'intent': [], 'isInfluential': False, 'paperId': '2ac4e0b5a2fc19d6ce0c976d056896b61e921543', 'title': 'Quantum gravity, shadow states and quantum mechanics', 'url': 'https://www.semanticscholar.org/paper/2ac4e0b5a2fc19d6ce0c976d056896b61e921543', 'venue': '', 'year': 2002}, {'arxivId': 'gr-qc/0304074', 'authors': [{'authorId': '2412351', 'name': 'A. Ashtekar'}, {'authorId': '49000943', 'name': 'M. Bojowald'}, {'authorId': '145237061', 'name': 'J. Lewandowski'}], 'doi': '10.4310/ATMP.2003.V7.N2.A2', 'intent': [], 'isInfluential': False, 'paperId': 'f0941ca653156a9e8848a6221d3a8ab927676db8', 'title': 'Mathematical structure of loop quantum cosmology', 'url': 'https://www.semanticscholar.org/paper/f0941ca653156a9e8848a6221d3a8ab927676db8', 'venue': '', 'year': 2003}, {'arxivId': 'quant-ph/0110102', 'authors': [{'authorId': '31476695', 'name': 'Hans Halvorson'}], 'doi': '10.1016/j.shpsb.2003.01.001', 'intent': [], 'isInfluential': False, 'paperId': '4d5abf4d7cfd47ae5653af5a8fa31cc8f137f3c4', 'title': 'Complementarity of representations in quantum mechanics', 'url': 'https://www.semanticscholar.org/paper/4d5abf4d7cfd47ae5653af5a8fa31cc8f137f3c4', 'venue': '', 'year': 2001}, {'arxivId': 'gr-qc/0312094', 'authors': [{'authorId': '47339603', 'name': 'V. Husain'}, {'authorId': '47416409', 'name': 'O. Winkler'}], 'doi': '10.1103/PhysRevD.69.084016', 'intent': [], 'isInfluential': False, 'paperId': '51001a87961f7827d8af5f21a943a3654481c0fe', 'title': 'Singularity resolution in quantum gravity', 'url': 'https://www.semanticscholar.org/paper/51001a87961f7827d8af5f21a943a3654481c0fe', 'venue': '', 'year': 2003}, {'arxivId': 'hep-th/0511222', 'authors': [{'authorId': '40269457', 'name': 'E. Manrique'}, {'authorId': '88676786', 'name': 'R. Oeckl'}, {'authorId': '50121637', 'name': 'A. Weber'}, {'authorId': '102989963', 'name': \"Jos'e A. Zapata\"}], 'doi': '10.1088/0264-9381/23/10/010', 'intent': ['background'], 'isInfluential': False, 'paperId': '8c526ee39c31c4b01cdaa7a7f66e227f8054e6ce', 'title': 'Loop quantization as a continuum limit', 'url': 'https://www.semanticscholar.org/paper/8c526ee39c31c4b01cdaa7a7f66e227f8054e6ce', 'venue': '', 'year': 2005}, {'arxivId': 'gr-qc/0601085', 'authors': [{'authorId': '49000943', 'name': 'M. Bojowald'}], 'doi': '10.12942/lrr-2005-11', 'intent': ['background'], 'isInfluential': False, 'paperId': '91accbc6175ec6fbd861668ad12f76c6ba3bfd38', 'title': 'Loop Quantum Cosmology', 'url': 'https://www.semanticscholar.org/paper/91accbc6175ec6fbd861668ad12f76c6ba3bfd38', 'venue': 'Living reviews in relativity', 'year': 2005}, {'arxivId': 'gr-qc/0607039', 'authors': [{'authorId': '2412351', 'name': 'A. Ashtekar'}, {'authorId': '2216284', 'name': 'T. Pawlowski'}, {'authorId': '95130968', 'name': 'Parampreet Singh'}], 'doi': '10.1103/PhysRevD.74.084003', 'intent': [], 'isInfluential': False, 'paperId': '8bd5ae7779c8bc46d7084cacbc6fbcc8851c9ee9', 'title': 'Quantum Nature of the Big Bang: Improved dynamics', 'url': 'https://www.semanticscholar.org/paper/8bd5ae7779c8bc46d7084cacbc6fbcc8851c9ee9', 'venue': '', 'year': 2006}, {'arxivId': 'gr-qc/0606090', 'authors': [{'authorId': '13963234', 'name': 'K. Fredenhagen'}, {'authorId': '102549405', 'name': 'Felix Reszewski'}], 'doi': '10.1088/0264-9381/23/22/028', 'intent': [], 'isInfluential': False, 'paperId': 'cbccd930e4287b1619a6bd9ad72f3dfb6a55b5f3', 'title': 'Polymer state approximation of Schrödinger wavefunctions', 'url': 'https://www.semanticscholar.org/paper/cbccd930e4287b1619a6bd9ad72f3dfb6a55b5f3', 'venue': '', 'year': 2006}, {'arxivId': 'gr-qc/0607097', 'authors': [{'authorId': '9519265', 'name': 'V. Husain'}, {'authorId': '47416409', 'name': 'O. Winkler'}], 'doi': '10.1103/PhysRevD.75.024014', 'intent': ['background'], 'isInfluential': False, 'paperId': '08da0d0781c28b0239a989ff6f592c45a748bcaf', 'title': 'Semiclassical states for quantum cosmology', 'url': 'https://www.semanticscholar.org/paper/08da0d0781c28b0239a989ff6f592c45a748bcaf', 'venue': '', 'year': 2006}, {'arxivId': 'gr-qc/0612155', 'authors': [{'authorId': '46187391', 'name': 'Dah-Wei Chiou'}], 'doi': '10.1088/0264-9381/24/10/007', 'intent': ['background'], 'isInfluential': False, 'paperId': '0b991119b1508a004654dc815bc59b1082fe66b4', 'title': 'Galileo Symmetries in Polymer Particle Representation', 'url': 'https://www.semanticscholar.org/paper/0b991119b1508a004654dc815bc59b1082fe66b4', 'venue': '', 'year': 2006}, {'arxivId': 'gr-qc/0610072', 'authors': [{'authorId': '12030829', 'name': 'Alejandro Corichi'}, {'authorId': '101918412', 'name': 'T. Vukašinac'}, {'authorId': '102989963', 'name': \"Jos'e A. Zapata\"}], 'doi': '10.1088/0264-9381/24/6/008', 'intent': ['background'], 'isInfluential': False, 'paperId': '2554aaec10c32a03ca5a3e73f6b466204bfe5978', 'title': 'Hamiltonian and physical Hilbert space in polymer quantum mechanics', 'url': 'https://www.semanticscholar.org/paper/2554aaec10c32a03ca5a3e73f6b466204bfe5978', 'venue': '', 'year': 2006}]\n",
            "title : Polymer Quantum Mechanics and its Continuum Limit\n",
            "topics : [{'topic': 'Quantum mechanics', 'topicId': '11267', 'url': 'https://www.semanticscholar.org/topic/11267'}, {'topic': 'Polymer', 'topicId': '16290', 'url': 'https://www.semanticscholar.org/topic/16290'}, {'topic': 'Postal', 'topicId': '42168', 'url': 'https://www.semanticscholar.org/topic/42168'}, {'topic': 'Triune continuum paradigm', 'topicId': '3036713', 'url': 'https://www.semanticscholar.org/topic/3036713'}, {'topic': 'Morelia bredli', 'topicId': '6515996', 'url': 'https://www.semanticscholar.org/topic/6515996'}, {'topic': 'Morelia <angiosperm>', 'topicId': '599216', 'url': 'https://www.semanticscholar.org/topic/599216'}]\n",
            "url : https://www.semanticscholar.org/paper/596e5276e4d36c6f4891d0c286f55ce79e682c50\n",
            "venue : \n",
            "year : 2007\n"
          ]
        }
      ]
    },
    {
      "cell_type": "markdown",
      "metadata": {
        "id": "WQ03Ais0DG5Q"
      },
      "source": [
        "ANALYSIS OF METADATA OF SINGLE PAPER "
      ]
    },
    {
      "cell_type": "code",
      "metadata": {
        "colab": {
          "base_uri": "https://localhost:8080/"
        },
        "id": "_wbgXbOfDLAh",
        "outputId": "11655bcf-9041-4676-e294-4e1d04951e1e"
      },
      "source": [
        "def data_print(paper) -> None :\n",
        "  print(\"Basic Metadata\")\n",
        "  print(\"Title:\" , str(paper['title']))\n",
        "  print(\"Fields of Study:\" , str(paper['fieldsOfStudy']))\n",
        "  print(\"Number Cited by:\" , str(paper['numCitedBy']))\n",
        "  print(\"Number Citing:\" ,str(paper['numCiting']))\n",
        "\n",
        "data_print(paper)  "
      ],
      "execution_count": 39,
      "outputs": [
        {
          "output_type": "stream",
          "name": "stdout",
          "text": [
            "Basic Metadata\n",
            "Title: Polymer Quantum Mechanics and its Continuum Limit\n",
            "Fields of Study: ['Physics']\n",
            "Number Cited by: 124\n",
            "Number Citing: 20\n"
          ]
        }
      ]
    },
    {
      "cell_type": "code",
      "metadata": {
        "colab": {
          "base_uri": "https://localhost:8080/"
        },
        "id": "ma1VK1tAgS_J",
        "outputId": "116ebffe-7a99-4c51-bb2c-a6d54a7794f7"
      },
      "source": [
        "# API WITH KEYWORDS IN IT\n",
        "import requests\n",
        "resp = requests.get('http://api.springernature.com/metadata/json/doi/10.1007/s11276-008-0131-4?api_key=78efc06559822ae52f1e57a4fde9aab6')\n",
        "print(resp.text)"
      ],
      "execution_count": 8,
      "outputs": [
        {
          "output_type": "stream",
          "name": "stdout",
          "text": [
            "{\"apiMessage\":\"This JSON was provided by Springer Nature\",\"query\":\"doi:10.1007/s11276-008-0131-4\",\"apiKey\":\"78efc06559822ae52f1e57a4fde9aab6\",\"result\":[{\"total\":\"1\",\"start\":\"1\",\"pageLength\":\"10\",\"recordsDisplayed\":\"1\"}],\"records\":[{\"contentType\":\"Article\",\"identifier\":\"doi:10.1007/s11276-008-0131-4\",\"language\":\"en\",\"url\":[{\"format\":\"\",\"platform\":\"\",\"value\":\"http://dx.doi.org/10.1007/s11276-008-0131-4\"}],\"title\":\"Bit-per-joule performance of power saving ad hoc networks with a mobile backbone\",\"creators\":[{ \"creator\":\"Huang, Xiaolong\" },{ \"creator\":\"Rubin, Izhak\" }],\"publicationName\":\"Wireless Networks\",\"openaccess\":\"false\",\"doi\":\"10.1007/s11276-008-0131-4\",\"publisher\":\"Springer\",\"publicationDate\":\"2010-02-01\",\"publicationType\":\"Journal\",\"issn\":\"1572-8196\",\"volume\":\"16\",\"number\":\"2\",\"genre\":\"OriginalPaper\",\"startingPage\":\"311\",\"endingPage\":\"329\",\"journalId\":\"11276\",\"copyright\":\"©2008 Springer Science+Business Media, LLC\",\"abstract\":\"Energy efficient MAC protocols have been developed for wireless sensor and mobile ad hoc networks so that inactive nodes can transition into sleep state to conserve energy. It has been recognized that maintaining a continuously awake connected dominating set (CDS) serves to reduce the route setup latency. Under the mobile backbone network (MBN) architecture introduced by Rubin et al., a mobile backbone (Bnet) is dynamically constructed to provide a topological covering of the network. The MBN employs a hybrid routing algorithm under which flows that travel a distance longer than a threshold are directed along routes across the Bnet. In turn, a limited span network-wide global route discovery process is applied for routing shorter distance flows. In this paper, we introduce and analyze an MBN based power saving protocol (MBN-PS) that employs this hybrid routing scheme. Under the MBN-PS scheme, dynamically elected backbone nodes are kept awake, while inactive non-backbone nodes can reside in sleep state. We analytically show that, when the number of network flows is above a minimal level, the throughput per watt efficiency attained in an ad hoc network under complete backbone coverage is better than that achieved by a corresponding network that does not form a backbone. We present a model for the calculation of the bit-per-joule performance of the network as a function of the distance threshold. We confirm the validity of our analytical approach through simulations. Using our method, a network designer is able to choose the optimal distance threshold to be used by this scheme, based on traffic loading conditions.\"}],\"facets\":[{\"name\":\"subject\",\"values\":[{\"value\":\"Communications Engineering, Networks\",\"count\":\"1\"},{\"value\":\"Computer Communication Networks\",\"count\":\"1\"},{\"value\":\"Electrical Engineering\",\"count\":\"1\"},{\"value\":\"Engineering\",\"count\":\"1\"},{\"value\":\"IT in Business\",\"count\":\"1\"}]},{\"name\":\"keyword\",\"values\":[{\"value\":\"Ad hoc networks\",\"count\":\"1\"},{\"value\":\"Ad hoc routing\",\"count\":\"1\"},{\"value\":\"Energy efficient protocol\",\"count\":\"1\"},{\"value\":\"Mobile backbone networks\",\"count\":\"1\"},{\"value\":\"Performance analysis\",\"count\":\"1\"},{\"value\":\"Power saving\",\"count\":\"1\"},{\"value\":\"Systems modeling\",\"count\":\"1\"}]},{\"name\":\"pub\",\"values\":[{\"value\":\"Wireless Networks\",\"count\":\"1\"}]},{\"name\":\"year\",\"values\":[{\"value\":\"2010\",\"count\":\"1\"}]},{\"name\":\"country\",\"values\":[{\"value\":\"United States\",\"count\":\"1\"}]},{\"name\":\"type\",\"values\":[{\"value\":\"Journal\",\"count\":\"1\"}]}]}\n"
          ]
        }
      ]
    }
  ]
}